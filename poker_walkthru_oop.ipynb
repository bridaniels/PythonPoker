{
 "cells": [
  {
   "attachments": {},
   "cell_type": "markdown",
   "metadata": {},
   "source": [
    "# **Texas Hold'em Poker Walkthrough: OOP**\n",
    "---"
   ]
  },
  {
   "attachments": {},
   "cell_type": "markdown",
   "metadata": {},
   "source": [
    "### Import Libraries "
   ]
  },
  {
   "cell_type": "code",
   "execution_count": 7,
   "metadata": {},
   "outputs": [],
   "source": [
    "import random "
   ]
  },
  {
   "attachments": {},
   "cell_type": "markdown",
   "metadata": {},
   "source": [
    "### Basic Setup "
   ]
  },
  {
   "cell_type": "code",
   "execution_count": 8,
   "metadata": {},
   "outputs": [],
   "source": [
    "# Setup \n",
    "SUITES = ['Heart', 'Diamond', 'Spade', 'Club']\n",
    "NUMVAL = [2,3,4,5,6,7,8,9,10,11,12,13,14]\n",
    "FACECARDS = {\n",
    "    \"J\": 11, \n",
    "    \"Q\": 12, \n",
    "    \"K\": 13, \n",
    "    \"A\": 14, \n",
    "    11: \"J\", \n",
    "    12: \"Q\", \n",
    "    13: \"K\", \n",
    "    14: \"A\"\n",
    "}\n",
    "num_players = 5"
   ]
  },
  {
   "cell_type": "code",
   "execution_count": 9,
   "metadata": {},
   "outputs": [],
   "source": [
    "# OOP - Create Deck \n",
    "class Card: \n",
    "    def __init__(self, numval, suit): \n",
    "        self.numval = numval\n",
    "        self.suit = suit\n",
    "def initialize_deck(): \n",
    "    starting_deck = []\n",
    "    for numval in NUMVAL: \n",
    "        for suit in SUITES: \n",
    "            if numval in FACECARDS: \n",
    "                c = Card(FACECARDS[numval], suit)\n",
    "            else: \n",
    "                c = Card(numval,suit)\n",
    "            starting_deck.append(c)\n",
    "    return starting_deck\n",
    "starting_deck = initialize_deck()"
   ]
  },
  {
   "cell_type": "code",
   "execution_count": 10,
   "metadata": {},
   "outputs": [],
   "source": [
    "def deal_cards(cards): \n",
    "    i = random.randint(0, len(cards)-1)\n",
    "    card = cards[i]\n",
    "    cards.pop(i)\n",
    "    return card, cards \n",
    "\n",
    "def deal(cards = starting_deck, num_opp = 2): \n",
    "    opp_hands = []\n",
    "    for _ in range(num_opp): \n",
    "        card1, cards = deal_cards(cards)\n",
    "        card2, cards = deal_cards(cards)\n",
    "        opp_hands.append([card1,card2])\n",
    "    card1, cards = deal_cards(cards)\n",
    "    card2, cards = deal_cards(cards)\n",
    "    your_hand = [card1, card2]\n",
    "    return your_hand, opp_hands"
   ]
  },
  {
   "cell_type": "code",
   "execution_count": 11,
   "metadata": {},
   "outputs": [
    {
     "name": "stdout",
     "output_type": "stream",
     "text": [
      "Your Hand:  [('Q', 'Club'), (10, 'Spade')]\n"
     ]
    }
   ],
   "source": [
    "your_hand, opp_hands = deal()\n",
    "print(\"Your Hand: \", [(card.numval, card.suit) for card in your_hand])"
   ]
  },
  {
   "cell_type": "code",
   "execution_count": null,
   "metadata": {},
   "outputs": [],
   "source": []
  },
  {
   "cell_type": "code",
   "execution_count": null,
   "metadata": {},
   "outputs": [],
   "source": []
  },
  {
   "cell_type": "code",
   "execution_count": null,
   "metadata": {},
   "outputs": [],
   "source": []
  }
 ],
 "metadata": {
  "kernelspec": {
   "display_name": "base",
   "language": "python",
   "name": "python3"
  },
  "language_info": {
   "codemirror_mode": {
    "name": "ipython",
    "version": 3
   },
   "file_extension": ".py",
   "mimetype": "text/x-python",
   "name": "python",
   "nbconvert_exporter": "python",
   "pygments_lexer": "ipython3",
   "version": "3.8.8"
  },
  "orig_nbformat": 4,
  "vscode": {
   "interpreter": {
    "hash": "08a0dfaf3fa74e1b9a1bb705dbe1b2708914f992320bdd77350db063c3b717dd"
   }
  }
 },
 "nbformat": 4,
 "nbformat_minor": 2
}
