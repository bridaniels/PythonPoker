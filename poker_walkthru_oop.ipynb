{
 "cells": [
  {
   "attachments": {},
   "cell_type": "markdown",
   "metadata": {},
   "source": [
    "# **Texas Hold'em Poker Walkthrough: OOP**\n",
    "---"
   ]
  },
  {
   "attachments": {},
   "cell_type": "markdown",
   "metadata": {},
   "source": [
    "### Import Libraries "
   ]
  },
  {
   "cell_type": "code",
   "execution_count": 1,
   "metadata": {},
   "outputs": [],
   "source": [
    "import random "
   ]
  },
  {
   "attachments": {},
   "cell_type": "markdown",
   "metadata": {},
   "source": [
    "### Basic Setup "
   ]
  },
  {
   "cell_type": "code",
   "execution_count": 2,
   "metadata": {},
   "outputs": [],
   "source": [
    "# Setup \n",
    "SUITES = ['Heart', 'Diamond', 'Spade', 'Club']\n",
    "NUMVAL = [2,3,4,5,6,7,8,9,10,11,12,13,14]\n",
    "FACECARDS = {\n",
    "    \"J\": 11, \n",
    "    \"Q\": 12, \n",
    "    \"K\": 13, \n",
    "    \"A\": 14, \n",
    "    11: \"J\", \n",
    "    12: \"Q\", \n",
    "    13: \"K\", \n",
    "    14: \"A\"\n",
    "}\n",
    "num_players = 5"
   ]
  },
  {
   "attachments": {},
   "cell_type": "markdown",
   "metadata": {},
   "source": [
    "### Define Classes for OOP"
   ]
  },
  {
   "cell_type": "code",
   "execution_count": 28,
   "metadata": {},
   "outputs": [],
   "source": [
    "# Individual Card Class\n",
    "class Card: \n",
    "    def __init__(self, numval, suit): \n",
    "        self.numval = numval\n",
    "        self.suit = suit\n",
    "\n",
    "# Individual Player Class \n",
    "class Player: \n",
    "    def __init__(self, id, name, cards, points=0): \n",
    "        self.id = id \n",
    "        self.name = name \n",
    "        self.cards = cards\n",
    "        self.points = points "
   ]
  },
  {
   "attachments": {},
   "cell_type": "markdown",
   "metadata": {},
   "source": [
    "## Initialize Deck \n",
    "---"
   ]
  },
  {
   "cell_type": "code",
   "execution_count": 29,
   "metadata": {},
   "outputs": [],
   "source": [
    "# OOP - Create Deck \n",
    "def initialize_deck(): \n",
    "    starting_deck = []\n",
    "    for numval in NUMVAL: \n",
    "        for suit in SUITES: \n",
    "            if numval in FACECARDS: \n",
    "                c = Card(FACECARDS[numval], suit)\n",
    "            else: \n",
    "                c = Card(numval,suit)\n",
    "            starting_deck.append(c)\n",
    "    return starting_deck"
   ]
  },
  {
   "cell_type": "code",
   "execution_count": 40,
   "metadata": {},
   "outputs": [
    {
     "name": "stdout",
     "output_type": "stream",
     "text": [
      "Cards in Deck: 52\n"
     ]
    }
   ],
   "source": [
    "starting_deck = initialize_deck()\n",
    "print(\"Cards in Deck: {}\".format(len(starting_deck)))"
   ]
  },
  {
   "attachments": {},
   "cell_type": "markdown",
   "metadata": {},
   "source": [
    "## *Randomly Deal Cards vs. Shuffling*\n",
    "- Just for this example \n",
    "---"
   ]
  },
  {
   "cell_type": "code",
   "execution_count": 41,
   "metadata": {},
   "outputs": [],
   "source": [
    "# Randomly Deal Cards in Place of Shuffling \n",
    "def deal_cards(cards): \n",
    "    i = random.randint(0, len(cards)-1)\n",
    "    card = cards[i]\n",
    "    cards.pop(i)\n",
    "    return card, cards "
   ]
  },
  {
   "attachments": {},
   "cell_type": "markdown",
   "metadata": {},
   "source": [
    "## Deal First Round of Cards \n",
    "- *Hole Cards*: specific players cards only - not show until the end \n",
    "---"
   ]
  },
  {
   "cell_type": "code",
   "execution_count": 42,
   "metadata": {},
   "outputs": [],
   "source": [
    "def hole_cards(cards, num_opp): \n",
    "    opp_hands = []\n",
    "    for _ in range(num_opp-1): \n",
    "        card1, cards = deal_cards(cards)\n",
    "        card2, cards = deal_cards(cards)\n",
    "        opp_hands.append([card1,card2])\n",
    "    card1, cards = deal_cards(cards)\n",
    "    card2, cards = deal_cards(cards)\n",
    "    your_hand = [card1, card2]\n",
    "    return your_hand, opp_hands"
   ]
  },
  {
   "cell_type": "code",
   "execution_count": 43,
   "metadata": {},
   "outputs": [
    {
     "name": "stdout",
     "output_type": "stream",
     "text": [
      "Cards in Deck:  52\n",
      "\n",
      "Your Hand:  [(9, 'Heart'), (10, 'Diamond')]\n",
      "Other Players:  4\n",
      "\n",
      "Cards in Deck:  42\n"
     ]
    }
   ],
   "source": [
    "print(\"Cards in Deck: \", len(starting_deck))\n",
    "your_hand, opp_hands = hole_cards(starting_deck,num_players)\n",
    "print(\"\\nYour Hand: \", [(card.numval, card.suit) for card in your_hand])\n",
    "print(\"Other Players: \", len(opp_hands))\n",
    "print(\"\\nCards in Deck: \", len(starting_deck))"
   ]
  },
  {
   "attachments": {},
   "cell_type": "markdown",
   "metadata": {},
   "source": [
    "---\n",
    "## *Players Place First Bets*\n",
    "- Pre-Flop\n",
    "- Blind\n",
    "---"
   ]
  },
  {
   "attachments": {},
   "cell_type": "markdown",
   "metadata": {},
   "source": [
    "---\n",
    "## **Opening Bet Folding**\n",
    "---"
   ]
  },
  {
   "attachments": {},
   "cell_type": "markdown",
   "metadata": {},
   "source": [
    "## The Flop\n",
    "- Burn First Card\n",
    "- Deal The Flop: First Three Community Cards \n",
    "---"
   ]
  },
  {
   "cell_type": "code",
   "execution_count": 44,
   "metadata": {},
   "outputs": [],
   "source": [
    "# The Flop \n",
    "def the_flop(cards): \n",
    "    burnt_1, cards = deal_cards(cards)\n",
    "    burnt_card = burnt_1\n",
    "    c1, cards = deal_cards(cards)\n",
    "    c2, cards = deal_cards(cards)\n",
    "    c3, cards = deal_cards(cards)\n",
    "    community_cards = [c1,c2,c3]\n",
    "    return burnt_card, community_cards"
   ]
  },
  {
   "cell_type": "code",
   "execution_count": 45,
   "metadata": {},
   "outputs": [
    {
     "name": "stdout",
     "output_type": "stream",
     "text": [
      "Cards in Deck:  42\n",
      "Burnt Card:  [(7, 'Heart')]\n",
      "Community Cards: [(3, 'Heart'), ('J', 'Spade'), (6, 'Spade')]\n",
      "Cards in Deck:  38\n"
     ]
    }
   ],
   "source": [
    "# The Flop \n",
    "print(\"Cards in Deck: \", len(starting_deck))\n",
    "\n",
    "burnt_card, community_cards = the_flop(starting_deck)\n",
    "print(\"Burnt Card: \", [(burnt_card.numval, burnt_card.suit)])\n",
    "print(\"Community Cards: {}\".format([(c.numval, c.suit) for c in community_cards]))\n",
    "\n",
    "print(\"Cards in Deck: \", len(starting_deck))"
   ]
  },
  {
   "attachments": {},
   "cell_type": "markdown",
   "metadata": {},
   "source": [
    "---\n",
    "## *Players Take Second bets*\n",
    "- Flop Betting Round \n",
    "- Betting No Longer \"Blind\"\n",
    "---"
   ]
  },
  {
   "attachments": {},
   "cell_type": "markdown",
   "metadata": {},
   "source": [
    "# The Turn or Fourth Street \n",
    "- Burn First Card\n",
    "- Single Community Card \n",
    "- ***and*** The River or Fifth Street\n",
    "---"
   ]
  },
  {
   "cell_type": "code",
   "execution_count": 46,
   "metadata": {},
   "outputs": [],
   "source": [
    "# Turn or River \n",
    "def turn_river(cards): \n",
    "    burnt, cards = deal_cards(cards)\n",
    "    c1, cards = deal_cards(cards)\n",
    "    return burnt, c1 "
   ]
  },
  {
   "cell_type": "code",
   "execution_count": 47,
   "metadata": {},
   "outputs": [
    {
     "name": "stdout",
     "output_type": "stream",
     "text": [
      "Cards in Deck:  38\n",
      "Burnt Card:  [(7, 'Diamond')]\n",
      "Community Cards: [(3, 'Heart'), ('J', 'Spade'), (6, 'Spade'), (9, 'Spade')]\n",
      "Cards in Deck:  36\n"
     ]
    }
   ],
   "source": [
    "# The Turn or Fourth Street \n",
    "print(\"Cards in Deck: \", len(starting_deck))\n",
    "\n",
    "burnt_card, community = turn_river(starting_deck)\n",
    "community_cards.append(community)\n",
    "\n",
    "print(\"Burnt Card: \", [(burnt_card.numval, burnt_card.suit)])\n",
    "print(\"Community Cards: {}\".format([(c.numval, c.suit) for c in community_cards]))\n",
    "\n",
    "print(\"Cards in Deck: \", len(starting_deck))"
   ]
  },
  {
   "attachments": {},
   "cell_type": "markdown",
   "metadata": {},
   "source": [
    "---\n",
    "## *Players Take Third Bets*\n",
    "---"
   ]
  },
  {
   "attachments": {},
   "cell_type": "markdown",
   "metadata": {},
   "source": [
    "## The River or Fifth Street\n",
    "- Burn First Card\n",
    "- Single Community Card \n",
    "---"
   ]
  },
  {
   "cell_type": "code",
   "execution_count": 48,
   "metadata": {},
   "outputs": [
    {
     "name": "stdout",
     "output_type": "stream",
     "text": [
      "Cards in Deck:  36\n",
      "Burnt Card:  [('K', 'Spade')]\n",
      "Community Cards: [(3, 'Heart'), ('J', 'Spade'), (6, 'Spade'), (9, 'Spade'), (2, 'Heart')]\n",
      "Cards in Deck:  34\n"
     ]
    }
   ],
   "source": [
    "# The River or Fifth Street \n",
    "print(\"Cards in Deck: \", len(starting_deck))\n",
    "\n",
    "burnt_card, community = turn_river(starting_deck)\n",
    "community_cards.append(community)\n",
    "\n",
    "print(\"Burnt Card: \", [(burnt_card.numval, burnt_card.suit)])\n",
    "print(\"Community Cards: {}\".format([(c.numval, c.suit) for c in community_cards]))\n",
    "\n",
    "print(\"Cards in Deck: \", len(starting_deck))"
   ]
  },
  {
   "attachments": {},
   "cell_type": "markdown",
   "metadata": {},
   "source": [
    "---\n",
    "## *Final Betting*\n",
    "- last player to **bet** or **raise** during final round = first to put down their cards \n",
    "    - then clockwise \n",
    "---"
   ]
  },
  {
   "attachments": {},
   "cell_type": "markdown",
   "metadata": {},
   "source": [
    "\n",
    "## The Showdown \n",
    "- if 2+ Players Remain After Final Betting Round \n",
    "- each player makes the best 5-Card hand from 2 *Hole Cards* and 5 *Community Cards*\n",
    "- **Mucking**\n",
    "    - surrending hand without turning cards over \n",
    "    - not eligible to win the pot \n",
    "--- "
   ]
  },
  {
   "cell_type": "code",
   "execution_count": null,
   "metadata": {},
   "outputs": [],
   "source": []
  }
 ],
 "metadata": {
  "kernelspec": {
   "display_name": "base",
   "language": "python",
   "name": "python3"
  },
  "language_info": {
   "codemirror_mode": {
    "name": "ipython",
    "version": 3
   },
   "file_extension": ".py",
   "mimetype": "text/x-python",
   "name": "python",
   "nbconvert_exporter": "python",
   "pygments_lexer": "ipython3",
   "version": "3.8.8"
  },
  "orig_nbformat": 4,
  "vscode": {
   "interpreter": {
    "hash": "08a0dfaf3fa74e1b9a1bb705dbe1b2708914f992320bdd77350db063c3b717dd"
   }
  }
 },
 "nbformat": 4,
 "nbformat_minor": 2
}
