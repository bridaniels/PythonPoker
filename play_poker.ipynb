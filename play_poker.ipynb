{
 "cells": [
  {
   "attachments": {},
   "cell_type": "markdown",
   "metadata": {},
   "source": [
    "# Play Poker \n",
    "---"
   ]
  },
  {
   "cell_type": "code",
   "execution_count": 2,
   "metadata": {},
   "outputs": [],
   "source": [
    "import cards as c "
   ]
  },
  {
   "cell_type": "code",
   "execution_count": 3,
   "metadata": {},
   "outputs": [
    {
     "name": "stdout",
     "output_type": "stream",
     "text": [
      "52\n"
     ]
    }
   ],
   "source": [
    "deck1 = c.get_new_deck()\n",
    "print(len(deck1))"
   ]
  },
  {
   "cell_type": "code",
   "execution_count": 4,
   "metadata": {},
   "outputs": [
    {
     "name": "stdout",
     "output_type": "stream",
     "text": [
      "[1, 1, 1, 1, 2, 2, 2, 2, 3, 3, 3, 3, 4, 4, 4, 4, 5, 5, 5, 5, 6, 6, 6, 6, 7, 7, 7, 7, 8, 8, 8, 8, 9, 9, 9, 9, 10, 10, 10, 10, 11, 11, 11, 11, 12, 12, 12, 12, 13, 13, 13, 13] 13\n"
     ]
    }
   ],
   "source": [
    "val1 = c.get_card_values(deck1)\n",
    "high1 = c.get_highest_card(val1)\n",
    "print(val1,high1)"
   ]
  },
  {
   "cell_type": "code",
   "execution_count": 5,
   "metadata": {},
   "outputs": [
    {
     "ename": "RecursionError",
     "evalue": "maximum recursion depth exceeded",
     "output_type": "error",
     "traceback": [
      "\u001b[0;31m---------------------------------------------------------------------------\u001b[0m",
      "\u001b[0;31mRecursionError\u001b[0m                            Traceback (most recent call last)",
      "\u001b[1;32m/Users/CODEUSR/Documents/PROJECTS/smallProjects/PythonPoker/play_poker.ipynb Cell 6\u001b[0m in \u001b[0;36m<cell line: 1>\u001b[0;34m()\u001b[0m\n\u001b[0;32m----> <a href='vscode-notebook-cell:/Users/CODEUSR/Documents/PROJECTS/smallProjects/PythonPoker/play_poker.ipynb#X26sZmlsZQ%3D%3D?line=0'>1</a>\u001b[0m s_flush1 \u001b[39m=\u001b[39m c\u001b[39m.\u001b[39;49mis_straight_flush_possible(deck1)\n",
      "File \u001b[0;32m~/Documents/PROJECTS/smallProjects/PythonPoker/cards.py:57\u001b[0m, in \u001b[0;36mis_straight_flush_possible\u001b[0;34m(cards)\u001b[0m\n\u001b[1;32m     56\u001b[0m \u001b[39mdef\u001b[39;00m \u001b[39mis_straight_flush_possible\u001b[39m(cards): \n\u001b[0;32m---> 57\u001b[0m     \u001b[39mif\u001b[39;00m is_straight_flush_possible(cards)[\u001b[39m0\u001b[39m] \u001b[39mand\u001b[39;00m is_straight_flush_possible(cards)[\u001b[39m0\u001b[39m]: \n\u001b[1;32m     58\u001b[0m         ls1 \u001b[39m=\u001b[39m []\n\u001b[1;32m     59\u001b[0m         ls2 \u001b[39m=\u001b[39m []\n",
      "File \u001b[0;32m~/Documents/PROJECTS/smallProjects/PythonPoker/cards.py:57\u001b[0m, in \u001b[0;36mis_straight_flush_possible\u001b[0;34m(cards)\u001b[0m\n\u001b[1;32m     56\u001b[0m \u001b[39mdef\u001b[39;00m \u001b[39mis_straight_flush_possible\u001b[39m(cards): \n\u001b[0;32m---> 57\u001b[0m     \u001b[39mif\u001b[39;00m is_straight_flush_possible(cards)[\u001b[39m0\u001b[39m] \u001b[39mand\u001b[39;00m is_straight_flush_possible(cards)[\u001b[39m0\u001b[39m]: \n\u001b[1;32m     58\u001b[0m         ls1 \u001b[39m=\u001b[39m []\n\u001b[1;32m     59\u001b[0m         ls2 \u001b[39m=\u001b[39m []\n",
      "    \u001b[0;31m[... skipping similar frames: is_straight_flush_possible at line 57 (2970 times)]\u001b[0m\n",
      "File \u001b[0;32m~/Documents/PROJECTS/smallProjects/PythonPoker/cards.py:57\u001b[0m, in \u001b[0;36mis_straight_flush_possible\u001b[0;34m(cards)\u001b[0m\n\u001b[1;32m     56\u001b[0m \u001b[39mdef\u001b[39;00m \u001b[39mis_straight_flush_possible\u001b[39m(cards): \n\u001b[0;32m---> 57\u001b[0m     \u001b[39mif\u001b[39;00m is_straight_flush_possible(cards)[\u001b[39m0\u001b[39m] \u001b[39mand\u001b[39;00m is_straight_flush_possible(cards)[\u001b[39m0\u001b[39m]: \n\u001b[1;32m     58\u001b[0m         ls1 \u001b[39m=\u001b[39m []\n\u001b[1;32m     59\u001b[0m         ls2 \u001b[39m=\u001b[39m []\n",
      "\u001b[0;31mRecursionError\u001b[0m: maximum recursion depth exceeded"
     ]
    }
   ],
   "source": [
    "s_flush1 = c.is_straight_flush_possible(deck1)"
   ]
  },
  {
   "cell_type": "code",
   "execution_count": null,
   "metadata": {},
   "outputs": [],
   "source": []
  },
  {
   "attachments": {},
   "cell_type": "markdown",
   "metadata": {},
   "source": [
    "# OOP WORK "
   ]
  },
  {
   "cell_type": "code",
   "execution_count": 36,
   "metadata": {},
   "outputs": [],
   "source": [
    "class Card:\n",
    "    def __init__(self, value, color):\n",
    "        self.value = value\n",
    "        self.color = color\n",
    "colors = ['Heart', 'Diamonds', 'Spades', 'Clubs']\n",
    "deck = [Card(value, color) for value in range(1, 14) for color in colors]"
   ]
  },
  {
   "cell_type": "code",
   "execution_count": 39,
   "metadata": {},
   "outputs": [],
   "source": [
    "def get_list_of_cards(cards): \n",
    "    cardVal = []\n",
    "    for eachCard in cards: \n",
    "        cardVal.append(int(eachCard.value))\n",
    "    return cardVal\n",
    "\n",
    "k = get_list_of_cards(deck)"
   ]
  },
  {
   "attachments": {},
   "cell_type": "markdown",
   "metadata": {},
   "source": [
    "# iter tools version "
   ]
  },
  {
   "cell_type": "code",
   "execution_count": 7,
   "metadata": {},
   "outputs": [],
   "source": [
    "import itertools\n",
    "import random "
   ]
  },
  {
   "cell_type": "code",
   "execution_count": 8,
   "metadata": {},
   "outputs": [],
   "source": [
    "COLOR = ['Heart', 'Diamond', 'Spade', 'Club']\n",
    "NUMVAL = [2,3,4,5,6,7,8,9,10,11,12,13,14]"
   ]
  },
  {
   "cell_type": "code",
   "execution_count": 36,
   "metadata": {},
   "outputs": [
    {
     "name": "stdout",
     "output_type": "stream",
     "text": [
      "You Got: \n",
      "12 of Spade\n",
      "13 of Diamond\n",
      "12 of Diamond\n",
      "3 of Diamond\n",
      "13 of Heart\n",
      "[(12, 'Spade'), (13, 'Diamond'), (12, 'Diamond'), (3, 'Diamond'), (13, 'Heart')]\n"
     ]
    }
   ],
   "source": [
    "deck = list(itertools.product(NUMVAL,COLOR))\n",
    "\n",
    "def shuffle(deck):\n",
    "    return random.shuffle(deck) \n",
    "\n",
    "random.shuffle(deck)\n",
    "shuffie = []\n",
    "\n",
    "print(\"You Got: \")\n",
    "for i in range(5): \n",
    "    shuffie.append((deck[i][0],deck[i][1]))\n",
    "    print(deck[i][0], \"of\", deck[i][1])\n",
    "print(shuffie)"
   ]
  },
  {
   "cell_type": "code",
   "execution_count": 68,
   "metadata": {},
   "outputs": [
    {
     "name": "stdout",
     "output_type": "stream",
     "text": [
      "Sorted Card Values: [13, 13, 12, 12, 3]\n"
     ]
    }
   ],
   "source": [
    "cardValues = []\n",
    "for c in shuffie: \n",
    "    cardValues.append(int(c[0]))\n",
    "cardValues.sort(reverse=True)\n",
    "print(\"Sorted Card Values: {}\".format(cardValues))"
   ]
  },
  {
   "cell_type": "code",
   "execution_count": 31,
   "metadata": {},
   "outputs": [
    {
     "name": "stdout",
     "output_type": "stream",
     "text": [
      "i = 0 -> Count = 1\n",
      "no full house?\n",
      "i = 1 -> Count = 1\n",
      "no full house?\n",
      "i = 2 -> Count = 1\n",
      "no full house?\n",
      "i = 3 -> Count = 1\n",
      "no full house?\n"
     ]
    }
   ],
   "source": [
    "full_house = []\n",
    "\n",
    "for i in range(4): \n",
    "    sameCount = cardValues.count(cardValues[i])\n",
    "    print(\"i = {} -> Count = {}\".format(i,sameCount))\n",
    "    if sameCount == 3: \n",
    "        full_house.append(cardValues[i])\n",
    "        print(\"full house = {}\".format(full_house))\n",
    "    else: \n",
    "        print(\"no full house?\")\n",
    "        "
   ]
  },
  {
   "attachments": {},
   "cell_type": "markdown",
   "metadata": {},
   "source": [
    "### Two Pair "
   ]
  },
  {
   "cell_type": "code",
   "execution_count": 71,
   "metadata": {},
   "outputs": [
    {
     "name": "stdout",
     "output_type": "stream",
     "text": [
      "n: 5\n",
      "Cards: [13, 13, 12, 12, 3]\n"
     ]
    }
   ],
   "source": [
    "# Two Pair \n",
    "cardValues = [13, 13, 12, 12, 3]\n",
    "n = len(cardValues)\n",
    "\n",
    "print(\"n: {}\\nCards: {}\".format(n, cardValues))"
   ]
  },
  {
   "cell_type": "code",
   "execution_count": 72,
   "metadata": {},
   "outputs": [
    {
     "name": "stdout",
     "output_type": "stream",
     "text": [
      "i = 0 -> Count = 2\n",
      "Round 0 Best 5: [13]\n",
      "\n",
      " Best 5 Before Removal: [13]\n",
      " Removal 1: [13]\n",
      " Removal 2: [13]\n",
      " i = 0 -> Count = 2\n",
      " Best 5: [13, 12]\n",
      "\n",
      " Best 5 Before Removal: [13, 12]\n",
      " Removal 1: [13, 12]\n",
      " Removal 2: [13, 12]\n",
      "\n",
      "Final Append: [13, 12, 3]\n",
      "FINAL: True + Best 5 = [13, 12, 3]\n"
     ]
    }
   ],
   "source": [
    "# Two Pair \n",
    "best_5 = []\n",
    "\n",
    "for i in range(n): \n",
    "    sameCount = cardValues.count(cardValues[i])\n",
    "    print(\"i = {} -> Count = {}\".format(i,sameCount))\n",
    "    if sameCount == 2: \n",
    "        best_5.append(cardValues[i])\n",
    "        print(\"Round {} Best 5: {}\".format(i, best_5))\n",
    "        break \n",
    "if len(best_5) == 1: \n",
    "    print(\"\\n Best 5 Before Removal: {}\".format(best_5))\n",
    "    cardValues.remove(best_5[0])\n",
    "    print(\" Removal 1: {}\".format(best_5))\n",
    "    cardValues.remove(best_5[0])\n",
    "    print(\" Removal 2: {}\".format(best_5))\n",
    "    for i in range(n-1): \n",
    "        sameCount = cardValues.count(cardValues[i])\n",
    "        print(\" i = {} -> Count = {}\".format(i, sameCount))\n",
    "        if sameCount == 2: \n",
    "            best_5.append(cardValues[1])\n",
    "            print(\" Best 5: {}\".format(best_5))\n",
    "            break \n",
    "if len(best_5) == 2: \n",
    "    print(\"\\n Best 5 Before Removal: {}\".format(best_5))\n",
    "    cardValues.remove(best_5[1])\n",
    "    print(\" Removal 1: {}\".format(best_5))\n",
    "    cardValues.remove(best_5[1])\n",
    "    print(\" Removal 2: {}\".format(best_5))\n",
    "    best_5.append(cardValues[0])\n",
    "    print(\"\\nFinal Append: {}\".format(best_5))\n",
    "    print(\"FINAL: True + Best 5 = {}\".format(best_5))\n",
    "\n",
    "else: \n",
    "    print(\"FALSE\")\n",
    "\n",
    "    "
   ]
  },
  {
   "cell_type": "code",
   "execution_count": null,
   "metadata": {},
   "outputs": [],
   "source": []
  },
  {
   "cell_type": "code",
   "execution_count": null,
   "metadata": {},
   "outputs": [],
   "source": []
  },
  {
   "cell_type": "code",
   "execution_count": null,
   "metadata": {},
   "outputs": [],
   "source": [
    "# ONE PAIR \n",
    "\n",
    "if found: \n",
    "    print(\"before remove: {}\".format(cardValues))\n",
    "    cardValues.remove(num)\n",
    "    print(\"first remove: {}\".format(cardValues)) \n",
    "    cardValues.remove(num)\n",
    "    print(\"second remove: {}\".format(cardValues))\n",
    "    print(\"{}, and {}\".format(found, [num, cardValues[0], cardValues[1], cardValues[2]]))\n",
    "else: \n",
    "    print(\"False\")"
   ]
  }
 ],
 "metadata": {
  "kernelspec": {
   "display_name": "base",
   "language": "python",
   "name": "python3"
  },
  "language_info": {
   "codemirror_mode": {
    "name": "ipython",
    "version": 3
   },
   "file_extension": ".py",
   "mimetype": "text/x-python",
   "name": "python",
   "nbconvert_exporter": "python",
   "pygments_lexer": "ipython3",
   "version": "3.8.8"
  },
  "orig_nbformat": 4,
  "vscode": {
   "interpreter": {
    "hash": "08a0dfaf3fa74e1b9a1bb705dbe1b2708914f992320bdd77350db063c3b717dd"
   }
  }
 },
 "nbformat": 4,
 "nbformat_minor": 2
}
