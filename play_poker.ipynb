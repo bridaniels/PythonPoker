{
 "cells": [
  {
   "attachments": {},
   "cell_type": "markdown",
   "metadata": {},
   "source": [
    "# Play Poker \n",
    "---"
   ]
  },
  {
   "cell_type": "code",
   "execution_count": 1,
   "metadata": {},
   "outputs": [],
   "source": [
    "import itertools\n",
    "import random "
   ]
  },
  {
   "cell_type": "code",
   "execution_count": 2,
   "metadata": {},
   "outputs": [],
   "source": [
    "import cards as c "
   ]
  },
  {
   "cell_type": "code",
   "execution_count": 3,
   "metadata": {},
   "outputs": [
    {
     "name": "stdout",
     "output_type": "stream",
     "text": [
      "52\n"
     ]
    }
   ],
   "source": [
    "deck1 = c.get_new_deck()\n",
    "print(len(deck1))"
   ]
  },
  {
   "cell_type": "code",
   "execution_count": 4,
   "metadata": {},
   "outputs": [
    {
     "name": "stdout",
     "output_type": "stream",
     "text": [
      "[1, 1, 1, 1, 2, 2, 2, 2, 3, 3, 3, 3, 4, 4, 4, 4, 5, 5, 5, 5, 6, 6, 6, 6, 7, 7, 7, 7, 8, 8, 8, 8, 9, 9, 9, 9, 10, 10, 10, 10, 11, 11, 11, 11, 12, 12, 12, 12, 13, 13, 13, 13] 13\n"
     ]
    }
   ],
   "source": [
    "val1 = c.get_card_values(deck1)\n",
    "high1 = c.get_highest_card(val1)\n",
    "print(val1,high1)"
   ]
  },
  {
   "cell_type": "code",
   "execution_count": 5,
   "metadata": {},
   "outputs": [
    {
     "ename": "RecursionError",
     "evalue": "maximum recursion depth exceeded",
     "output_type": "error",
     "traceback": [
      "\u001b[0;31m---------------------------------------------------------------------------\u001b[0m",
      "\u001b[0;31mRecursionError\u001b[0m                            Traceback (most recent call last)",
      "\u001b[1;32m/Users/CODEUSR/Documents/PROJECTS/smallProjects/PythonPoker/play_poker.ipynb Cell 6\u001b[0m in \u001b[0;36m<cell line: 1>\u001b[0;34m()\u001b[0m\n\u001b[0;32m----> <a href='vscode-notebook-cell:/Users/CODEUSR/Documents/PROJECTS/smallProjects/PythonPoker/play_poker.ipynb#X26sZmlsZQ%3D%3D?line=0'>1</a>\u001b[0m s_flush1 \u001b[39m=\u001b[39m c\u001b[39m.\u001b[39;49mis_straight_flush_possible(deck1)\n",
      "File \u001b[0;32m~/Documents/PROJECTS/smallProjects/PythonPoker/cards.py:57\u001b[0m, in \u001b[0;36mis_straight_flush_possible\u001b[0;34m(cards)\u001b[0m\n\u001b[1;32m     56\u001b[0m \u001b[39mdef\u001b[39;00m \u001b[39mis_straight_flush_possible\u001b[39m(cards): \n\u001b[0;32m---> 57\u001b[0m     \u001b[39mif\u001b[39;00m is_straight_flush_possible(cards)[\u001b[39m0\u001b[39m] \u001b[39mand\u001b[39;00m is_straight_flush_possible(cards)[\u001b[39m0\u001b[39m]: \n\u001b[1;32m     58\u001b[0m         ls1 \u001b[39m=\u001b[39m []\n\u001b[1;32m     59\u001b[0m         ls2 \u001b[39m=\u001b[39m []\n",
      "File \u001b[0;32m~/Documents/PROJECTS/smallProjects/PythonPoker/cards.py:57\u001b[0m, in \u001b[0;36mis_straight_flush_possible\u001b[0;34m(cards)\u001b[0m\n\u001b[1;32m     56\u001b[0m \u001b[39mdef\u001b[39;00m \u001b[39mis_straight_flush_possible\u001b[39m(cards): \n\u001b[0;32m---> 57\u001b[0m     \u001b[39mif\u001b[39;00m is_straight_flush_possible(cards)[\u001b[39m0\u001b[39m] \u001b[39mand\u001b[39;00m is_straight_flush_possible(cards)[\u001b[39m0\u001b[39m]: \n\u001b[1;32m     58\u001b[0m         ls1 \u001b[39m=\u001b[39m []\n\u001b[1;32m     59\u001b[0m         ls2 \u001b[39m=\u001b[39m []\n",
      "    \u001b[0;31m[... skipping similar frames: is_straight_flush_possible at line 57 (2970 times)]\u001b[0m\n",
      "File \u001b[0;32m~/Documents/PROJECTS/smallProjects/PythonPoker/cards.py:57\u001b[0m, in \u001b[0;36mis_straight_flush_possible\u001b[0;34m(cards)\u001b[0m\n\u001b[1;32m     56\u001b[0m \u001b[39mdef\u001b[39;00m \u001b[39mis_straight_flush_possible\u001b[39m(cards): \n\u001b[0;32m---> 57\u001b[0m     \u001b[39mif\u001b[39;00m is_straight_flush_possible(cards)[\u001b[39m0\u001b[39m] \u001b[39mand\u001b[39;00m is_straight_flush_possible(cards)[\u001b[39m0\u001b[39m]: \n\u001b[1;32m     58\u001b[0m         ls1 \u001b[39m=\u001b[39m []\n\u001b[1;32m     59\u001b[0m         ls2 \u001b[39m=\u001b[39m []\n",
      "\u001b[0;31mRecursionError\u001b[0m: maximum recursion depth exceeded"
     ]
    }
   ],
   "source": [
    "s_flush1 = c.is_straight_flush_possible(deck1)"
   ]
  },
  {
   "cell_type": "code",
   "execution_count": null,
   "metadata": {},
   "outputs": [],
   "source": []
  },
  {
   "attachments": {},
   "cell_type": "markdown",
   "metadata": {},
   "source": [
    "# OOP WORK "
   ]
  },
  {
   "cell_type": "code",
   "execution_count": 36,
   "metadata": {},
   "outputs": [],
   "source": [
    "class Card:\n",
    "    def __init__(self, value, color):\n",
    "        self.value = value\n",
    "        self.color = color\n",
    "colors = ['Heart', 'Diamonds', 'Spades', 'Clubs']\n",
    "deck = [Card(value, color) for value in range(1, 14) for color in colors]"
   ]
  },
  {
   "cell_type": "code",
   "execution_count": 39,
   "metadata": {},
   "outputs": [],
   "source": [
    "def get_list_of_cards(cards): \n",
    "    cardVal = []\n",
    "    for eachCard in cards: \n",
    "        cardVal.append(int(eachCard.value))\n",
    "    return cardVal\n",
    "\n",
    "k = get_list_of_cards(deck)"
   ]
  },
  {
   "attachments": {},
   "cell_type": "markdown",
   "metadata": {},
   "source": [
    "# iter tools version "
   ]
  },
  {
   "cell_type": "code",
   "execution_count": null,
   "metadata": {},
   "outputs": [],
   "source": [
    "COLOR = ['Heart', 'Diamond', 'Spade', 'Club']\n",
    "NUMVAL = [2,3,4,5,6,7,8,9,10,11,12,13,14]"
   ]
  },
  {
   "cell_type": "code",
   "execution_count": 34,
   "metadata": {},
   "outputs": [
    {
     "name": "stdout",
     "output_type": "stream",
     "text": [
      "[(2, 'Heart'), (2, 'Diamond'), (2, 'Spade'), (2, 'Club'), (3, 'Heart'), (3, 'Diamond'), (3, 'Spade'), (3, 'Club'), (4, 'Heart'), (4, 'Diamond'), (4, 'Spade'), (4, 'Club'), (5, 'Heart'), (5, 'Diamond'), (5, 'Spade'), (5, 'Club'), (6, 'Heart'), (6, 'Diamond'), (6, 'Spade'), (6, 'Club'), (7, 'Heart'), (7, 'Diamond'), (7, 'Spade'), (7, 'Club'), (8, 'Heart'), (8, 'Diamond'), (8, 'Spade'), (8, 'Club'), (9, 'Heart'), (9, 'Diamond'), (9, 'Spade'), (9, 'Club'), (10, 'Heart'), (10, 'Diamond'), (10, 'Spade'), (10, 'Club'), (11, 'Heart'), (11, 'Diamond'), (11, 'Spade'), (11, 'Club'), (12, 'Heart'), (12, 'Diamond'), (12, 'Spade'), (12, 'Club'), (13, 'Heart'), (13, 'Diamond'), (13, 'Spade'), (13, 'Club'), (14, 'Heart'), (14, 'Diamond'), (14, 'Spade'), (14, 'Club')]\n"
     ]
    }
   ],
   "source": [
    "deck = list(itertools.product(NUMVAL,COLOR))\n",
    "print(deck)"
   ]
  },
  {
   "cell_type": "code",
   "execution_count": null,
   "metadata": {},
   "outputs": [],
   "source": []
  }
 ],
 "metadata": {
  "kernelspec": {
   "display_name": "base",
   "language": "python",
   "name": "python3"
  },
  "language_info": {
   "codemirror_mode": {
    "name": "ipython",
    "version": 3
   },
   "file_extension": ".py",
   "mimetype": "text/x-python",
   "name": "python",
   "nbconvert_exporter": "python",
   "pygments_lexer": "ipython3",
   "version": "3.8.8"
  },
  "orig_nbformat": 4,
  "vscode": {
   "interpreter": {
    "hash": "08a0dfaf3fa74e1b9a1bb705dbe1b2708914f992320bdd77350db063c3b717dd"
   }
  }
 },
 "nbformat": 4,
 "nbformat_minor": 2
}
