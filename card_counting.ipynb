{
 "cells": [
  {
   "attachments": {},
   "cell_type": "markdown",
   "metadata": {},
   "source": [
    "# Card Counting \n",
    "---"
   ]
  },
  {
   "cell_type": "code",
   "execution_count": 11,
   "metadata": {},
   "outputs": [],
   "source": [
    "# Basic Setup\n",
    "SUITES = ['Heart', 'Diamond', 'Spade', 'Club']\n",
    "NUMVAL = [2,3,4,5,6,7,8,9,10,11,12,13,14]\n",
    "FACECARDS = {\n",
    "    \"J\": 11, \n",
    "    \"Q\": 12, \n",
    "    \"K\": 13, \n",
    "    \"A\": 14, \n",
    "    11: \"J\", \n",
    "    12: \"Q\", \n",
    "    13: \"K\", \n",
    "    14: \"A\"\n",
    "}\n",
    "num_players = 5\n",
    "\n",
    "class Card: \n",
    "    def __init__(self, numval, suit): \n",
    "        self.numval = numval\n",
    "        self.suit = suit"
   ]
  },
  {
   "cell_type": "code",
   "execution_count": 5,
   "metadata": {},
   "outputs": [],
   "source": [
    "import play_poker as p_poker"
   ]
  },
  {
   "attachments": {},
   "cell_type": "markdown",
   "metadata": {},
   "source": [
    "# Values\n",
    "- 2-6 = 1\n",
    "- 7-9 = 0 \n",
    "- 10-A = -1\n",
    "---"
   ]
  },
  {
   "cell_type": "code",
   "execution_count": 2,
   "metadata": {},
   "outputs": [],
   "source": [
    "count_val = {\n",
    "    2: 1,\n",
    "    3: 1,\n",
    "    4: 1, \n",
    "    5: 1, \n",
    "    6: 1, \n",
    "    7: 0,\n",
    "    8: 0,\n",
    "    9: 0,\n",
    "    10: -1,\n",
    "    'J': -1,\n",
    "    'Q': -1,\n",
    "    'K': -1,\n",
    "    'A': -1, \n",
    "    11: -1,\n",
    "    12: -1,\n",
    "    13: -1,\n",
    "    14: -1\n",
    "}"
   ]
  },
  {
   "cell_type": "code",
   "execution_count": 4,
   "metadata": {},
   "outputs": [],
   "source": [
    "#CAN'T USE TO GET FACE VALUES BECAUSE OF THE WORDS \n",
    "def initialize_deck_facecards(): \n",
    "    starting_deck = []\n",
    "    for numval in NUMVAL: \n",
    "        for suit in SUITES: \n",
    "            if numval in FACECARDS: \n",
    "                c = Card(FACECARDS[numval], suit)\n",
    "            else: \n",
    "                c = Card(numval,suit)\n",
    "            starting_deck.append(c)\n",
    "    return starting_deck\n",
    "def initialize_deck_one_liner():\n",
    "    starting_deck = [Card(numval,suit) for numval in NUMVAL for suit in SUITES]\n",
    "    return starting_deck"
   ]
  },
  {
   "cell_type": "code",
   "execution_count": 38,
   "metadata": {},
   "outputs": [],
   "source": [
    "deck = p_poker.initialize_deck_one_liner()\n",
    "hold_deal = p_poker.hole_cards(deck, num_players)"
   ]
  },
  {
   "cell_type": "code",
   "execution_count": 39,
   "metadata": {},
   "outputs": [
    {
     "data": {
      "text/plain": [
       "[5, 2]"
      ]
     },
     "execution_count": 39,
     "metadata": {},
     "output_type": "execute_result"
    }
   ],
   "source": [
    "hands = p_poker.get_card_values(hold_deal[0])\n",
    "hands\n"
   ]
  },
  {
   "cell_type": "code",
   "execution_count": 40,
   "metadata": {},
   "outputs": [],
   "source": [
    "def count_cards(hand): \n",
    "    return sum(count_val[i] for i in hand)"
   ]
  },
  {
   "cell_type": "code",
   "execution_count": 42,
   "metadata": {},
   "outputs": [
    {
     "ename": "KeyError",
     "evalue": "<play_poker.Card object at 0x7f83f8e35f40>",
     "output_type": "error",
     "traceback": [
      "\u001b[0;31m---------------------------------------------------------------------------\u001b[0m",
      "\u001b[0;31mKeyError\u001b[0m                                  Traceback (most recent call last)",
      "\u001b[1;32m/Users/CODEUSR/Documents/PROJECTS/smallProjects/PythonPoker/card_counting.ipynb Cell 10\u001b[0m in \u001b[0;36m<cell line: 1>\u001b[0;34m()\u001b[0m\n\u001b[0;32m----> <a href='vscode-notebook-cell:/Users/CODEUSR/Documents/PROJECTS/smallProjects/PythonPoker/card_counting.ipynb#X13sZmlsZQ%3D%3D?line=0'>1</a>\u001b[0m c \u001b[39m=\u001b[39m count_cards(hold_deal[\u001b[39m0\u001b[39;49m])\n\u001b[1;32m      <a href='vscode-notebook-cell:/Users/CODEUSR/Documents/PROJECTS/smallProjects/PythonPoker/card_counting.ipynb#X13sZmlsZQ%3D%3D?line=1'>2</a>\u001b[0m c\n",
      "\u001b[1;32m/Users/CODEUSR/Documents/PROJECTS/smallProjects/PythonPoker/card_counting.ipynb Cell 10\u001b[0m in \u001b[0;36mcount_cards\u001b[0;34m(hand)\u001b[0m\n\u001b[1;32m      <a href='vscode-notebook-cell:/Users/CODEUSR/Documents/PROJECTS/smallProjects/PythonPoker/card_counting.ipynb#X13sZmlsZQ%3D%3D?line=0'>1</a>\u001b[0m \u001b[39mdef\u001b[39;00m \u001b[39mcount_cards\u001b[39m(hand): \n\u001b[0;32m----> <a href='vscode-notebook-cell:/Users/CODEUSR/Documents/PROJECTS/smallProjects/PythonPoker/card_counting.ipynb#X13sZmlsZQ%3D%3D?line=1'>2</a>\u001b[0m     \u001b[39mreturn\u001b[39;00m \u001b[39msum\u001b[39;49m(count_val[i] \u001b[39mfor\u001b[39;49;00m i \u001b[39min\u001b[39;49;00m hand)\n",
      "\u001b[1;32m/Users/CODEUSR/Documents/PROJECTS/smallProjects/PythonPoker/card_counting.ipynb Cell 10\u001b[0m in \u001b[0;36m<genexpr>\u001b[0;34m(.0)\u001b[0m\n\u001b[1;32m      <a href='vscode-notebook-cell:/Users/CODEUSR/Documents/PROJECTS/smallProjects/PythonPoker/card_counting.ipynb#X13sZmlsZQ%3D%3D?line=0'>1</a>\u001b[0m \u001b[39mdef\u001b[39;00m \u001b[39mcount_cards\u001b[39m(hand): \n\u001b[0;32m----> <a href='vscode-notebook-cell:/Users/CODEUSR/Documents/PROJECTS/smallProjects/PythonPoker/card_counting.ipynb#X13sZmlsZQ%3D%3D?line=1'>2</a>\u001b[0m     \u001b[39mreturn\u001b[39;00m \u001b[39msum\u001b[39m(count_val[i] \u001b[39mfor\u001b[39;00m i \u001b[39min\u001b[39;00m hand)\n",
      "\u001b[0;31mKeyError\u001b[0m: <play_poker.Card object at 0x7f83f8e35f40>"
     ]
    }
   ],
   "source": [
    "c = count_cards(hold_deal[0])\n",
    "c"
   ]
  },
  {
   "cell_type": "code",
   "execution_count": null,
   "metadata": {},
   "outputs": [],
   "source": []
  }
 ],
 "metadata": {
  "kernelspec": {
   "display_name": "base",
   "language": "python",
   "name": "python3"
  },
  "language_info": {
   "codemirror_mode": {
    "name": "ipython",
    "version": 3
   },
   "file_extension": ".py",
   "mimetype": "text/x-python",
   "name": "python",
   "nbconvert_exporter": "python",
   "pygments_lexer": "ipython3",
   "version": "3.8.8"
  },
  "orig_nbformat": 4,
  "vscode": {
   "interpreter": {
    "hash": "08a0dfaf3fa74e1b9a1bb705dbe1b2708914f992320bdd77350db063c3b717dd"
   }
  }
 },
 "nbformat": 4,
 "nbformat_minor": 2
}
