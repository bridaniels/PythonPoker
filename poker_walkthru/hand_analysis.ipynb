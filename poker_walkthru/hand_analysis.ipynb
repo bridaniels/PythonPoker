{
 "cells": [
  {
   "attachments": {},
   "cell_type": "markdown",
   "metadata": {},
   "source": [
    "# Poker Hand Analysis\n",
    "---"
   ]
  },
  {
   "attachments": {},
   "cell_type": "markdown",
   "metadata": {},
   "source": [
    "- One Pair/Two Pair \n",
    "    - collections: Counter + defaultdict \n",
    "    - lists \n",
    "    - count "
   ]
  },
  {
   "cell_type": "code",
   "execution_count": 62,
   "metadata": {},
   "outputs": [],
   "source": [
    "from collections import Counter, defaultdict"
   ]
  },
  {
   "cell_type": "code",
   "execution_count": 1,
   "metadata": {},
   "outputs": [],
   "source": [
    "# Setup \n",
    "SUITES = ['Heart', 'Diamond', 'Spade', 'Club']\n",
    "NUMVAL = [2,3,4,5,6,7,8,9,10,11,12,13,14]\n",
    "class Card: \n",
    "    def __init__(self, numval, suit): \n",
    "        self.numval = numval\n",
    "        self.suit = suit"
   ]
  },
  {
   "attachments": {},
   "cell_type": "markdown",
   "metadata": {},
   "source": [
    "## Three of a Kind\n",
    "---"
   ]
  },
  {
   "cell_type": "code",
   "execution_count": 12,
   "metadata": {},
   "outputs": [],
   "source": [
    "def make_three_of_kind_hand(): \n",
    "    number = [12,12,11,4,4,4,2]\n",
    "    suitez = ['Diamond', 'Club', 'Club', 'Heart', 'Spade', 'Diamond', 'Spade']\n",
    "    hand = []\n",
    "    for i in range(len(number)): \n",
    "        c = Card(number[i],suitez[i])\n",
    "        hand.append(c)\n",
    "    return hand "
   ]
  },
  {
   "cell_type": "code",
   "execution_count": 13,
   "metadata": {},
   "outputs": [
    {
     "name": "stdout",
     "output_type": "stream",
     "text": [
      "Three of a Kind Hand: [(12, 'Diamond'), (12, 'Club'), (11, 'Club'), (4, 'Heart'), (4, 'Spade'), (4, 'Diamond'), (2, 'Spade')]\n"
     ]
    }
   ],
   "source": [
    "three_of_kind_hand = make_three_of_kind_hand()\n",
    "print(\"Three of a Kind Hand: {}\".format([(c.numval, c.suit) for c in three_of_kind_hand]))"
   ]
  },
  {
   "cell_type": "code",
   "execution_count": null,
   "metadata": {},
   "outputs": [],
   "source": []
  },
  {
   "cell_type": "code",
   "execution_count": null,
   "metadata": {},
   "outputs": [],
   "source": []
  },
  {
   "cell_type": "code",
   "execution_count": null,
   "metadata": {},
   "outputs": [],
   "source": []
  },
  {
   "attachments": {},
   "cell_type": "markdown",
   "metadata": {},
   "source": [
    "## Two Pair\n",
    "---"
   ]
  },
  {
   "cell_type": "code",
   "execution_count": 2,
   "metadata": {},
   "outputs": [],
   "source": [
    "def make_two_pair_hand(): \n",
    "    number = [12,12,11,5,4,4,2]\n",
    "    suitez = ['Diamond', 'Club', 'Club', 'Heart', 'Spade', 'Diamond', 'Spade']\n",
    "    hand = []\n",
    "    for i in range(len(number)): \n",
    "        c = Card(number[i],suitez[i])\n",
    "        hand.append(c)\n",
    "    return hand \n"
   ]
  },
  {
   "cell_type": "code",
   "execution_count": 66,
   "metadata": {},
   "outputs": [
    {
     "name": "stdout",
     "output_type": "stream",
     "text": [
      "Two Pair Hand: [(12, 'Diamond'), (12, 'Club'), (11, 'Club'), (5, 'Heart'), (4, 'Spade'), (4, 'Diamond'), (2, 'Spade')]\n"
     ]
    }
   ],
   "source": [
    "two_pair_hand = make_two_pair_hand()\n",
    "print(\"Two Pair Hand: {}\".format([(c.numval, c.suit) for c in two_pair_hand]))"
   ]
  },
  {
   "cell_type": "code",
   "execution_count": 4,
   "metadata": {},
   "outputs": [],
   "source": [
    "def is_two_pair(cards): \n",
    "    cardValues = [c.numval for c in cards]\n",
    "    cardValues.sort(reverse=True)\n",
    "    best_cards = []\n",
    "    \n",
    "    #find first instance of pair \n",
    "    for i in range(len(cardValues)): \n",
    "        sameCount = cardValues.count(cardValues[i])\n",
    "        if sameCount == 2: \n",
    "            best_cards.append(cardValues[i])\n",
    "            break\n",
    "    #remove first pair \n",
    "    if len(best_cards) == 1: \n",
    "        cardValues.remove(best_cards[0])\n",
    "        cardValues.remove(best_cards[0])\n",
    "        #find second instance of pair \n",
    "        for i in range(len(cardValues)):\n",
    "            sameCount = cardValues.count(cardValues[i])\n",
    "            if sameCount == 2: \n",
    "                best_cards.append(cardValues[i])\n",
    "                break \n",
    "    #remove second pair \n",
    "    #add next highest card \n",
    "    if len(best_cards) == 2: \n",
    "        cardValues.remove(best_cards[1])\n",
    "        cardValues.remove(best_cards[1])\n",
    "        best_cards.append(cardValues[0])\n",
    "\n",
    "        return True, best_cards\n",
    "    \n",
    "    return False, 0"
   ]
  },
  {
   "cell_type": "code",
   "execution_count": 5,
   "metadata": {},
   "outputs": [
    {
     "data": {
      "text/plain": [
       "(True, [12, 4, 11])"
      ]
     },
     "execution_count": 5,
     "metadata": {},
     "output_type": "execute_result"
    }
   ],
   "source": [
    "k = is_two_pair(two_pair_hand)\n",
    "k"
   ]
  },
  {
   "attachments": {},
   "cell_type": "markdown",
   "metadata": {},
   "source": [
    "### collections.defaultdict "
   ]
  },
  {
   "cell_type": "code",
   "execution_count": 76,
   "metadata": {},
   "outputs": [],
   "source": [
    "def is_two_pair_default(cards): \n",
    "    values = [i.numval for i in cards]\n",
    "    value_counts = defaultdict(lambda:0)\n",
    "    for v in values: \n",
    "        value_counts[v] += 1\n",
    "    if sorted(value_counts.values(),reverse=True)[:3] == [2,2,1]:\n",
    "        return True, \"Two Pair Possible\"\n",
    "    else:\n",
    "        return False\n"
   ]
  },
  {
   "cell_type": "code",
   "execution_count": 75,
   "metadata": {},
   "outputs": [
    {
     "data": {
      "text/plain": [
       "(True, 'Two Pair Possible')"
      ]
     },
     "execution_count": 75,
     "metadata": {},
     "output_type": "execute_result"
    }
   ],
   "source": [
    "m = is_two_pair_default(two_pair_hand)\n",
    "m"
   ]
  },
  {
   "attachments": {},
   "cell_type": "markdown",
   "metadata": {},
   "source": [
    "### Find Duplicates "
   ]
  },
  {
   "cell_type": "code",
   "execution_count": 6,
   "metadata": {},
   "outputs": [],
   "source": [
    "def find_duplicates(cards): \n",
    "    numbers = [c.numval for c in cards]\n",
    "    dupes = [n for n in numbers if numbers.count(n) > 1]\n",
    "    return dupes "
   ]
  },
  {
   "cell_type": "code",
   "execution_count": 7,
   "metadata": {},
   "outputs": [
    {
     "data": {
      "text/plain": [
       "[12, 12, 4, 4]"
      ]
     },
     "execution_count": 7,
     "metadata": {},
     "output_type": "execute_result"
    }
   ],
   "source": [
    "d = find_duplicates(two_pair_hand)\n",
    "d"
   ]
  },
  {
   "attachments": {},
   "cell_type": "markdown",
   "metadata": {},
   "source": [
    "### collections.Counter"
   ]
  },
  {
   "cell_type": "code",
   "execution_count": 9,
   "metadata": {},
   "outputs": [],
   "source": [
    "def count_dupes(cards): \n",
    "    numbers = [c.numval for c in cards]\n",
    "    counts = dict(Counter(numbers))\n",
    "    dupes = {key: value for key, value in counts.items() if value>1}\n",
    "\n",
    "    return dupes"
   ]
  },
  {
   "cell_type": "code",
   "execution_count": 10,
   "metadata": {},
   "outputs": [
    {
     "data": {
      "text/plain": [
       "{12: 2, 4: 2}"
      ]
     },
     "execution_count": 10,
     "metadata": {},
     "output_type": "execute_result"
    }
   ],
   "source": [
    "c = count_dupes(two_pair_hand)\n",
    "c"
   ]
  },
  {
   "attachments": {},
   "cell_type": "markdown",
   "metadata": {},
   "source": [
    "## One Pair\n",
    "---"
   ]
  },
  {
   "cell_type": "code",
   "execution_count": 16,
   "metadata": {},
   "outputs": [],
   "source": [
    "from collections import defaultdict"
   ]
  },
  {
   "cell_type": "code",
   "execution_count": 96,
   "metadata": {},
   "outputs": [],
   "source": [
    "def make_one_pair_hand(): \n",
    "    number = [12,11,9,5,4,4,2]\n",
    "    suitez = ['Diamond', 'Club', 'Club', 'Heart', 'Spade', 'Diamond', 'Spade']\n",
    "    hand = []\n",
    "    for i in range(len(number)): \n",
    "        c = Card(number[i],suitez[i])\n",
    "        hand.append(c)\n",
    "    return hand "
   ]
  },
  {
   "cell_type": "code",
   "execution_count": 97,
   "metadata": {},
   "outputs": [
    {
     "name": "stdout",
     "output_type": "stream",
     "text": [
      "One Pair Hand: [(12, 'Diamond'), (11, 'Club'), (9, 'Club'), (5, 'Heart'), (4, 'Spade'), (4, 'Diamond'), (2, 'Spade')]\n"
     ]
    }
   ],
   "source": [
    "one_pair_hand = make_one_pair_hand()\n",
    "print(\"One Pair Hand: {}\".format([(c.numval, c.suit) for c in one_pair_hand]))"
   ]
  },
  {
   "attachments": {},
   "cell_type": "markdown",
   "metadata": {},
   "source": [
    "### collections.defaultdict "
   ]
  },
  {
   "cell_type": "code",
   "execution_count": 27,
   "metadata": {},
   "outputs": [],
   "source": [
    "# only checks if there is a pair, not if there are multiple pairs \n",
    "def is_one_pair(cards):\n",
    "    values = [i.numval for i in cards]\n",
    "    valuecounts = defaultdict(lambda:0)\n",
    "    for v in values: \n",
    "        valuecounts[v] += 1\n",
    "    if 2 in valuecounts.values(): \n",
    "        return True\n",
    "    return False\n"
   ]
  },
  {
   "cell_type": "code",
   "execution_count": 28,
   "metadata": {},
   "outputs": [
    {
     "data": {
      "text/plain": [
       "True"
      ]
     },
     "execution_count": 28,
     "metadata": {},
     "output_type": "execute_result"
    }
   ],
   "source": [
    "k = is_one_pair(one_pair_hand)\n",
    "k"
   ]
  },
  {
   "attachments": {},
   "cell_type": "markdown",
   "metadata": {},
   "source": [
    "### .count"
   ]
  },
  {
   "cell_type": "code",
   "execution_count": 99,
   "metadata": {},
   "outputs": [
    {
     "data": {
      "text/plain": [
       "(True, [4, 12, 11, 9])"
      ]
     },
     "execution_count": 99,
     "metadata": {},
     "output_type": "execute_result"
    }
   ],
   "source": [
    "#don't really like this - misses second pair \n",
    "def is_pair_poss(cards): \n",
    "    values = [i.numval for i in cards]\n",
    "    values.sort(reverse=True)\n",
    "\n",
    "    found = False \n",
    "    num = 1 \n",
    "    for i in range(len(values)): \n",
    "        sameCount = values.count(values[i])\n",
    "        if sameCount == 2: \n",
    "            found = True\n",
    "            num = values[i]\n",
    "            break\n",
    "    if found: \n",
    "        values.remove(num)\n",
    "        values.remove(num)\n",
    "        return True, [num, values[0], values[1], values[2]]\n",
    "\n",
    "    return False, []\n",
    "\n",
    "p = is_pair_poss(one_pair_hand)\n",
    "p"
   ]
  },
  {
   "cell_type": "code",
   "execution_count": 98,
   "metadata": {},
   "outputs": [
    {
     "data": {
      "text/plain": [
       "True"
      ]
     },
     "execution_count": 98,
     "metadata": {},
     "output_type": "execute_result"
    }
   ],
   "source": [
    "def is_pair_count(cards): \n",
    "    values = [i.numval for i in cards]\n",
    "    values.sort(reverse=True)\n",
    "\n",
    "    mycount = []\n",
    "    num = 1 \n",
    "    for i in range(len(values)): \n",
    "        sameCount = values.count(values[i])\n",
    "        mycount.append(sameCount)\n",
    "    if mycount.count(2) == 2 and mycount.count(1) >= 3:\n",
    "        return True\n",
    "    return False \n",
    "\n",
    "m = is_pair_count(one_pair_hand)\n",
    "m"
   ]
  },
  {
   "cell_type": "code",
   "execution_count": null,
   "metadata": {},
   "outputs": [],
   "source": []
  }
 ],
 "metadata": {
  "kernelspec": {
   "display_name": "base",
   "language": "python",
   "name": "python3"
  },
  "language_info": {
   "codemirror_mode": {
    "name": "ipython",
    "version": 3
   },
   "file_extension": ".py",
   "mimetype": "text/x-python",
   "name": "python",
   "nbconvert_exporter": "python",
   "pygments_lexer": "ipython3",
   "version": "3.8.8"
  },
  "orig_nbformat": 4,
  "vscode": {
   "interpreter": {
    "hash": "08a0dfaf3fa74e1b9a1bb705dbe1b2708914f992320bdd77350db063c3b717dd"
   }
  }
 },
 "nbformat": 4,
 "nbformat_minor": 2
}
