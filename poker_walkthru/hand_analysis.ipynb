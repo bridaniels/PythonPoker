{
 "cells": [
  {
   "attachments": {},
   "cell_type": "markdown",
   "metadata": {},
   "source": [
    "# Poker Hand Analysis\n",
    "---"
   ]
  },
  {
   "attachments": {},
   "cell_type": "markdown",
   "metadata": {},
   "source": [
    "- One Pair/Two Pair \n",
    "    - collections: Counter + defaultdict \n",
    "    - lists \n",
    "    - count "
   ]
  },
  {
   "cell_type": "code",
   "execution_count": 1,
   "metadata": {},
   "outputs": [],
   "source": [
    "from collections import Counter, defaultdict"
   ]
  },
  {
   "cell_type": "code",
   "execution_count": 2,
   "metadata": {},
   "outputs": [],
   "source": [
    "# Setup \n",
    "SUITES = ['Heart', 'Diamond', 'Spade', 'Club']\n",
    "NUMVAL = [2,3,4,5,6,7,8,9,10,11,12,13,14]\n",
    "class Card: \n",
    "    def __init__(self, numval, suit): \n",
    "        self.numval = numval\n",
    "        self.suit = suit"
   ]
  },
  {
   "cell_type": "code",
   "execution_count": 3,
   "metadata": {},
   "outputs": [
    {
     "name": "stdout",
     "output_type": "stream",
     "text": [
      "Hand Check: [(14, 'Heart'), (13, 'Heart'), (12, 'Heart'), (11, 'Heart'), (10, 'Heart'), (5, 'Heart'), (3, 'Spade')]\n"
     ]
    }
   ],
   "source": [
    "one_pair_number = [12,11,9,5,4,4,2]\n",
    "one_pair_suitez = ['Diamond', 'Club', 'Club', 'Heart', 'Spade', 'Diamond', 'Spade']\n",
    "\n",
    "two_pair_number = [12,12,2,9,4,4,9]\n",
    "two_pair_suitez = ['Diamond', 'Club', 'Club', 'Heart', 'Spade', 'Diamond', 'Spade']\n",
    "\n",
    "three_kind_number = [12,11,9,4,4,4,2]\n",
    "three_kind_suitez = ['Diamond', 'Club', 'Club', 'Heart', 'Spade', 'Diamond', 'Spade']\n",
    "\n",
    "straight_number = [14,10,5,4,2,3]\n",
    "straight_suitez = ['Diamond', 'Club', 'Club', 'Heart', 'Spade', 'Diamond', 'Spade']\n",
    "\n",
    "flush_number = [14,12,10,4,3,2,3]\n",
    "flush_suitez = ['Diamond', 'Club', 'Club', 'Club', 'Club', 'Club', 'Spade']\n",
    "\n",
    "full_house_number = [13,10,10,10,14,14,14]\n",
    "full_house_suitez = ['Diamond', 'Spade', 'Heart', 'Heart', 'Spade', 'Diamond', 'Club']\n",
    "\n",
    "four_kind_number = [12,11,4,4,4,4,2]\n",
    "four_kind_suitez = ['Diamond', 'Club', 'Club', 'Heart', 'Spade', 'Diamond', 'Spade']\n",
    "\n",
    "straight_flush_number = [14,6,5,4,3,2,3]\n",
    "straight_flush_suitez = ['Diamond', 'Club', 'Club', 'Club', 'Club', 'Club', 'Spade']\n",
    "\n",
    "royal_flush_number = [14,13,12,11,10,5,3]\n",
    "royal_flush_suitez = ['Heart', 'Heart', 'Heart', 'Heart', 'Heart', 'Heart', 'Spade']\n",
    "\n",
    "def make_hand(number,suitez):\n",
    "    hand = []\n",
    "    for i in range(len(number)): \n",
    "        c = Card(number[i],suitez[i])\n",
    "        hand.append(c)\n",
    "    return hand \n",
    "\n",
    "one_pair_hand = make_hand(one_pair_number,one_pair_suitez)\n",
    "two_pair_hand = make_hand(two_pair_number,two_pair_suitez)\n",
    "three_of_kind_hand = make_hand(three_kind_number,three_kind_suitez)\n",
    "straight_hand = make_hand(straight_number,straight_suitez)\n",
    "flush_hand = make_hand(flush_number, flush_suitez)\n",
    "full_house_hand = make_hand(full_house_number, full_house_suitez)\n",
    "four_of_a_kind_hand = make_hand(four_kind_number,four_kind_suitez)\n",
    "straight_flush_hand = make_hand(straight_flush_number, straight_flush_suitez)\n",
    "royal_flush_hand = make_hand(royal_flush_number, royal_flush_suitez)\n",
    "\n",
    "hand_check = royal_flush_hand\n",
    "print(\"Hand Check: {}\".format([(c.numval, c.suit) for c in royal_flush_hand]))"
   ]
  },
  {
   "attachments": {},
   "cell_type": "markdown",
   "metadata": {},
   "source": [
    "---\n",
    "---\n",
    "# Overall Hand Analysis\n",
    "---\n",
    "---"
   ]
  },
  {
   "attachments": {},
   "cell_type": "markdown",
   "metadata": {},
   "source": [
    "## One Pair **OR** Two Pair **OR** Three of a Kind **OR** Full House **OR** Four of a Kind \n",
    "---"
   ]
  },
  {
   "cell_type": "code",
   "execution_count": 4,
   "metadata": {},
   "outputs": [],
   "source": [
    "def find_duplicates(cards): \n",
    "    numbers = [c.numval for c in cards]\n",
    "    numbers.sort(reverse=True)\n",
    "    dupes = [n for n in numbers if numbers.count(n) > 1]\n",
    "    mult = len(dupes)\n",
    "    \n",
    "    # One Pair\n",
    "    if mult == 2: \n",
    "        return True, \"One_Pair: {}\".format(dupes)\n",
    "    # Two Pair + Four of a Kind \n",
    "    elif mult == 4:\n",
    "        if len(set(dupes)) == 2: \n",
    "            return True, \"Two Pairs: {}\".format(dupes)\n",
    "        elif len(set(dupes)) == 1: \n",
    "            return True, \"Four_of_a_Kind\"\n",
    "    # Three of a Kind \n",
    "    elif mult == 3: \n",
    "        return True, \"Three_of_a_Kind\"\n",
    "    # Full House\n",
    "    elif mult == 5 and len(set(dupes)) == 2: \n",
    "        return True, \"Full_House\"\n",
    "    # NOT ABOVE \n",
    "    else: \n",
    "        return False, \"NO DUPLICATES: High Card = {}\".format(max(numbers))"
   ]
  },
  {
   "cell_type": "code",
   "execution_count": 5,
   "metadata": {},
   "outputs": [
    {
     "name": "stdout",
     "output_type": "stream",
     "text": [
      "One Pair: (True, 'One_Pair: [4, 4]') \n",
      "Two Pair: (False, 'NO DUPLICATES: High Card = 12') \n",
      "Three of a Kind: (True, 'Three_of_a_Kind') \n",
      "Full House: (False, 'NO DUPLICATES: High Card = 14') \n",
      "Four of a Kind: (True, 'Four_of_a_Kind')\n",
      "\n",
      "Straight: (False, 'NO DUPLICATES: High Card = 14') \n",
      "Flush: (True, 'One_Pair: [3, 3]') \n",
      "Sraight Flush: (True, 'One_Pair: [3, 3]')\n",
      "Royal Flush: (False, 'NO DUPLICATES: High Card = 14')\n"
     ]
    }
   ],
   "source": [
    "print(\"One Pair: {} \\nTwo Pair: {} \\nThree of a Kind: {} \\nFull House: {} \\nFour of a Kind: {}\".format(find_duplicates(one_pair_hand),\n",
    "                                                                                                       find_duplicates(two_pair_hand),\n",
    "                                                                                                       find_duplicates(three_of_kind_hand),\n",
    "                                                                                                       find_duplicates(full_house_hand),\n",
    "                                                                                                       find_duplicates(four_of_a_kind_hand)))\n",
    "print(\"\\nStraight: {} \\nFlush: {} \\nSraight Flush: {}\\nRoyal Flush: {}\".format(find_duplicates(straight_hand),\n",
    "                                                                              find_duplicates(flush_hand), \n",
    "                                                                              find_duplicates(straight_flush_hand), \n",
    "                                                                              find_duplicates(royal_flush_hand)))"
   ]
  },
  {
   "attachments": {},
   "cell_type": "markdown",
   "metadata": {},
   "source": [
    "## Straight **OR** Flush **OR** Straight Flush **OR** Royal Flush \n",
    "---"
   ]
  },
  {
   "cell_type": "code",
   "execution_count": 6,
   "metadata": {},
   "outputs": [],
   "source": [
    "def is_straight_flush_royal(cards): \n",
    "    # SETUP\n",
    "    suits = [c.suit for c in cards]\n",
    "    values = [c.numval for c in cards]\n",
    "    values = list(set(values))\n",
    "    values.sort(reverse=True)\n",
    "    if 14 in values: \n",
    "        values.append(1)\n",
    "\n",
    "    # IS STRAIGHT/FLUSH/ROYAL\n",
    "    def is_straight(values): \n",
    "        num_left = len(values)\n",
    "        num_iter = num_left - 4\n",
    "        if num_left > 4: \n",
    "            for i in range(num_iter):\n",
    "                if values[i] - 1 == values[i+1]: \n",
    "                    if values[i+1] - 1 == values[i+2]:\n",
    "                        if values[i+2] -1 == values[i+3]: \n",
    "                            if values[i+3] - 1 == values[i+4]:\n",
    "                                return True\n",
    "        return False\n",
    "    def is_flush(suits):\n",
    "        for i in range(len(suits)): \n",
    "            sameCount = suits.count(suits[i])\n",
    "            if sameCount >= 5:\n",
    "                return True\n",
    "        return False \n",
    "    def is_royal(values):\n",
    "        royal = []\n",
    "        for i in range(len(values)): \n",
    "            if values[i] >= 10:\n",
    "                royal.append(values[i])\n",
    "        if len(royal) == 5:\n",
    "            return True\n",
    "        return False \n",
    "\n",
    "    # ROUNDUP\n",
    "    if is_straight(values) == True:\n",
    "        if is_flush(suits) == True: \n",
    "            if is_royal(values) == True: \n",
    "                return True, \"Royal_Flush\"\n",
    "            return True, \"Straight_Flush\"\n",
    "        return True, \"Straight\"\n",
    "\n",
    "    if is_flush(suits) == True: \n",
    "        return True, \"Flush\"\n",
    "    \n",
    "    return False"
   ]
  },
  {
   "cell_type": "code",
   "execution_count": 7,
   "metadata": {},
   "outputs": [
    {
     "name": "stdout",
     "output_type": "stream",
     "text": [
      "Straight: (True, 'Straight') \n",
      "Straight Flush: (True, 'Straight_Flush') \n",
      "Royal Flush: (True, 'Royal_Flush')\n",
      "Flush: (True, 'Flush')\n",
      "\n",
      "One Pair: False \n",
      "Two Pair: False \n",
      "Three of a Kind: False \n",
      "Full House: False \n",
      "Four of a Kind: False\n"
     ]
    }
   ],
   "source": [
    "\n",
    "print(\"Straight: {} \\nStraight Flush: {} \\nRoyal Flush: {}\\nFlush: {}\\n\".format(is_straight_flush_royal(straight_hand),\n",
    "                                                                                is_straight_flush_royal(straight_flush_hand),\n",
    "                                                                                is_straight_flush_royal(royal_flush_hand),\n",
    "                                                                                is_straight_flush_royal(flush_hand)))\n",
    "\n",
    "\n",
    "\n",
    "print(\"One Pair: {} \\nTwo Pair: {} \\nThree of a Kind: {} \\nFull House: {} \\nFour of a Kind: {}\".format(is_straight_flush_royal(one_pair_hand),\n",
    "                                                                                                       is_straight_flush_royal(two_pair_hand),\n",
    "                                                                                                       is_straight_flush_royal(three_of_kind_hand),\n",
    "                                                                                                       is_straight_flush_royal(four_of_a_kind_hand),\n",
    "                                                                                                       is_straight_flush_royal(full_house_hand)))"
   ]
  },
  {
   "attachments": {},
   "cell_type": "markdown",
   "metadata": {},
   "source": [
    "## Work with Individual Functions \n",
    "---"
   ]
  },
  {
   "cell_type": "code",
   "execution_count": 8,
   "metadata": {},
   "outputs": [],
   "source": [
    "\n",
    "def check_hand(cards, sfr_analysis, fd_analysis):\n",
    "    # STRAIGHT FLUSH ROYAL + Find Duplicates Analysis \n",
    "    if sfr_analysis[0] == True or fd_analysis == True: \n",
    "        if sfr_analysis[1] == \"Royal_Flush\":\n",
    "            return is_royal_flush(cards)\n",
    "        elif sfr_analysis[1] == \"Straight_Flush\":\n",
    "            return is_straight_flush(cards)\n",
    "        elif fd_analysis[1] == \"Four_of_a_Kind\":\n",
    "            return is_four_of_a_kind(cards)\n",
    "        elif fd_analysis[1] == \"Full_House\":\n",
    "            return is_full_house(cards)\n",
    "        elif sfr_analysis[1] == \"Flush\":\n",
    "            return is_flush(cards)\n",
    "        elif sfr_analysis[1] == \"Straight\":\n",
    "            return is_straight(cards)\n",
    "        elif fd_analysis[1] == \"Three_of_a_Kind\":\n",
    "            return is_three_of_a_kind(cards)\n",
    "        elif fd_analysis[1] == \"Two_Pair\":\n",
    "            return is_two_pair(cards)\n",
    "        elif fd_analysis[1] == \"One_Pair\":\n",
    "            return is_one_pair(cards)\n",
    "    else: \n",
    "        numbers = [c.numval for c in cards]\n",
    "        return max(numbers)"
   ]
  },
  {
   "attachments": {},
   "cell_type": "markdown",
   "metadata": {},
   "source": [
    "---\n",
    "---\n",
    "# Individual Hand Analysis\n",
    "---\n",
    "---\n",
    "1. Royal Flush\n",
    "2. Straight Flush\n",
    "3. Four of a Kind\n",
    "4. Full House\n",
    "5. Flush\n",
    "6. Straight\n",
    "7. Three of a Kind\n",
    "8. Two Pair \n",
    "9. One Pair \n",
    "10. High Card "
   ]
  },
  {
   "attachments": {},
   "cell_type": "markdown",
   "metadata": {},
   "source": [
    "## Royal Flush (100 Points)\n",
    "---\n",
    "- Highest Ranking \n",
    "- 10-to-Ace Straight in any Suit \n",
    "- Only 4 Ways to Make a Royal Flush \n",
    "- Two Players *CANNOT* both use **Hole Cards** to make a Royal Flush \n",
    "- *highest possible straight flush*"
   ]
  },
  {
   "cell_type": "code",
   "execution_count": 9,
   "metadata": {},
   "outputs": [
    {
     "data": {
      "text/plain": [
       "('Heart', [10, 11, 12, 13, 14], 100)"
      ]
     },
     "execution_count": 9,
     "metadata": {},
     "output_type": "execute_result"
    }
   ],
   "source": [
    "def is_royal_flush(cards):\n",
    "    suits = [i.suit for i in cards]\n",
    "    values = []\n",
    "\n",
    "    # Straight Suit\n",
    "    for i in range(len(suits)): \n",
    "        sameCount = suits.count(suits[i])\n",
    "        if sameCount >= 5: \n",
    "            royal_suit = suits[i]\n",
    "\n",
    "            # Check For Royals \n",
    "            for i in range(len(cards)):\n",
    "                if cards[i].suit == royal_suit and cards[i].numval >= 10:\n",
    "                    values.append(cards[i].numval)\n",
    "                    values = list(set(values))\n",
    "            if len(values) == 5: \n",
    "                return royal_suit, values, 100\n",
    "            \n",
    "    return \"Royal Flush Error\"\n",
    "\n",
    "rf = is_royal_flush(royal_flush_hand)\n",
    "rf\n"
   ]
  },
  {
   "attachments": {},
   "cell_type": "markdown",
   "metadata": {},
   "source": [
    "## Straight Flush (90 Points)\n",
    "---\n",
    "- Second Highest \n",
    "- Five Consecutive Cards of the Same Suit \n",
    "- Lowest Ranking: `Ace-5`\n",
    "- Highest Ranking: `9-K`\n",
    "- Suit Does Not Matter"
   ]
  },
  {
   "cell_type": "code",
   "execution_count": 10,
   "metadata": {},
   "outputs": [
    {
     "data": {
      "text/plain": [
       "('Club', [6, 5, 4, 3, 2], 90)"
      ]
     },
     "execution_count": 10,
     "metadata": {},
     "output_type": "execute_result"
    }
   ],
   "source": [
    "def is_straight_flush(cards):\n",
    "    suits = [i.suit for i in cards]\n",
    "    values = []\n",
    "\n",
    "    # Straight Suit \n",
    "    for m in range(len(suits)): \n",
    "        sameCount = suits.count(suits[m])\n",
    "        if sameCount >= 5: \n",
    "            flush_suit = suits[m]\n",
    "            \n",
    "            # Check For Consecutive \n",
    "            for n in range(len(cards)): \n",
    "                if cards[n].suit == flush_suit: \n",
    "                    values.append(cards[n].numval)\n",
    "            if 14 in values:\n",
    "                values.append(1) \n",
    "            values.sort(reverse=True)\n",
    "\n",
    "            num_left = len(values)\n",
    "            itr_num = num_left - 4\n",
    "\n",
    "            if num_left > 4: \n",
    "                for i in range(itr_num):\n",
    "                    if values[i] - 1 == values[i+1]: \n",
    "                        if values[i+1] - 1 == values[i+2]:\n",
    "                            if values[i+2] - 1 == values[i+3]:\n",
    "                                if values[i+3] - 1 == values[i+4]:\n",
    "                                    return flush_suit, values, 90\n",
    "    return \"Straight Flush Error\"\n",
    "\n",
    "sf = is_straight_flush(straight_flush_hand)\n",
    "sf"
   ]
  },
  {
   "attachments": {},
   "cell_type": "markdown",
   "metadata": {},
   "source": [
    "## Four of a Kind (80 Points)\n",
    "---\n",
    "- Third Highest \n",
    "- 4 Cards of Same Value (different suits)\n",
    "- Kicker = fifth card that is the highest outside of the quads \n",
    "    - Only matters if four-of-a-kind all in the community cards "
   ]
  },
  {
   "cell_type": "code",
   "execution_count": 11,
   "metadata": {},
   "outputs": [
    {
     "data": {
      "text/plain": [
       "([4, 4, 4, 4, 12], 80)"
      ]
     },
     "execution_count": 11,
     "metadata": {},
     "output_type": "execute_result"
    }
   ],
   "source": [
    "# FOUR OF A KIND \n",
    "def is_four_of_a_kind(cards): \n",
    "    values = [c.numval for c in cards]\n",
    "    values.sort(reverse=True)\n",
    "    best_hand = []\n",
    "\n",
    "    for i in range(len(values)): \n",
    "        sumcount = values.count(values[i])\n",
    "        if sumcount == 4:\n",
    "            best_hand.append(values[i])\n",
    "    for i in range(4):\n",
    "        values.remove(best_hand[i])\n",
    "    best_hand.append(values[0])\n",
    "    values.remove(values[0])\n",
    "            \n",
    "    return best_hand, 80\n",
    "\n",
    "what = is_four_of_a_kind(four_of_a_kind_hand)\n",
    "what"
   ]
  },
  {
   "attachments": {},
   "cell_type": "markdown",
   "metadata": {},
   "source": [
    "## Full House (70 Points)\n",
    "---\n",
    "- Fourth Highest \n",
    "- Three-of-a-Kind + One Pair \n",
    "- Two Up Against Each Other:\n",
    "    - Rank of Three-of-a-Kind Settles"
   ]
  },
  {
   "cell_type": "code",
   "execution_count": 12,
   "metadata": {},
   "outputs": [
    {
     "data": {
      "text/plain": [
       "([14, 14, 14, 10, 10], 70)"
      ]
     },
     "execution_count": 12,
     "metadata": {},
     "output_type": "execute_result"
    }
   ],
   "source": [
    "def is_full_house(cards): \n",
    "    numbers = [c.numval for c in cards]\n",
    "    numbers.sort(reverse=True)\n",
    "    triples = [n for n in numbers if numbers.count(n) > 2]\n",
    "    doubles = [n for n in numbers if numbers.count(n) == 2]\n",
    "    house = []\n",
    "\n",
    "    if len(triples) == 3 or len(triples) == 6:\n",
    "        for i in range(5):         \n",
    "            house.append(triples[i])\n",
    "\n",
    "    if len(house) == 3: \n",
    "        for i in range(2): \n",
    "            house.append(doubles[i])\n",
    "\n",
    "    if len(house) == 5: \n",
    "        return house, 70\n",
    "    \n",
    "    return \"Full House Error\"\n",
    "    \n",
    "    \n",
    "fh = is_full_house(full_house_hand)\n",
    "fh"
   ]
  },
  {
   "attachments": {},
   "cell_type": "markdown",
   "metadata": {},
   "source": [
    "## Flush (60 Points)\n",
    "---\n",
    "- Fifth Highest \n",
    "- 5 Cards of the same Suit\n",
    "- Order Does Not Matter\n",
    "- Not possible without three community cards of the same suit \n",
    "    - Be careful and watch ot for odds \n",
    "- Flush Rank Dependent on Highest Card in the Hand "
   ]
  },
  {
   "cell_type": "code",
   "execution_count": 13,
   "metadata": {},
   "outputs": [
    {
     "data": {
      "text/plain": [
       "('Club', [12, 10, 4, 3, 2])"
      ]
     },
     "execution_count": 13,
     "metadata": {},
     "output_type": "execute_result"
    }
   ],
   "source": [
    "def is_flush(cards):\n",
    "    suits = [i.suit for i in cards]\n",
    "    values = []\n",
    "\n",
    "    for i in range(len(suits)): \n",
    "        sameCount = suits.count(suits[i])\n",
    "        if sameCount == 5: \n",
    "            flush_suit = suits[i]\n",
    "        \n",
    "            # Pull Flush Cards\n",
    "            for n in range(len(cards)): \n",
    "                if cards[n].suit == flush_suit: \n",
    "                    values.append(cards[n].numval)\n",
    "            values.sort(reverse=True)\n",
    "            return flush_suit, values[:5]\n",
    "    \n",
    "    return \"Flush Error\"\n",
    "\n",
    "f = is_flush(flush_hand)\n",
    "f\n"
   ]
  },
  {
   "attachments": {},
   "cell_type": "markdown",
   "metadata": {},
   "source": [
    "## Straight (50 Points)\n",
    "---\n",
    "- Sixth Highest \n",
    "- Five Cards in Numerical Order \n",
    "- *not in the same suit*\n",
    "- Ace can go low or high \n",
    "    - Lowest: `Ace-5`\n",
    "    - Highest: `Ace-10`\n",
    "- All others use Highest Ranking Card \n",
    "- Community Cards for Majority Can be Sketchy \n",
    "    - Especially if Hole Cards on the Low End \n",
    "    - Open-Ended: 8-outs\n",
    "    - Inside: 4-outs\n"
   ]
  },
  {
   "cell_type": "code",
   "execution_count": 14,
   "metadata": {},
   "outputs": [
    {
     "data": {
      "text/plain": [
       "([5, 4, 3, 2, 1], 5, 50)"
      ]
     },
     "execution_count": 14,
     "metadata": {},
     "output_type": "execute_result"
    }
   ],
   "source": [
    "def is_straight(cards): \n",
    "    values = [c.numval for c in cards]\n",
    "    if 14 in values: \n",
    "        values.append(1)\n",
    "    values = list(set(values))\n",
    "    values.sort(reverse=True)\n",
    "\n",
    "    numLeft = len(values)\n",
    "    numIter = numLeft - 4\n",
    "\n",
    "    if numLeft > 4: \n",
    "        for i in range(numIter): \n",
    "            if values[i] - 1 == values[i+1]: \n",
    "                if values[i+1] - 1 == values[i+2]:\n",
    "                    if values[i+2] -1 == values[i+3]: \n",
    "                        if values[i+3] - 1 == values[i+4]:\n",
    "                            if values[i+4] == 1: \n",
    "                                return values[-5:], max(values[-5:]),50\n",
    "                            return values[:5], max(values[:5]), 50\n",
    "    return \"Straight Error\"\n",
    "\n",
    "\n",
    "s = is_straight(straight_hand)\n",
    "s"
   ]
  },
  {
   "attachments": {},
   "cell_type": "markdown",
   "metadata": {},
   "source": [
    "## Three of a Kind (40 Points)\n",
    "---\n",
    "- Three Cards of Same Value - suit does not matter \n",
    "- Can use cards on the board \n",
    "- Set: 2/3 in Hole Cards\n",
    "- Trips: 1/3 in Hole Cards "
   ]
  },
  {
   "cell_type": "code",
   "execution_count": 15,
   "metadata": {},
   "outputs": [
    {
     "data": {
      "text/plain": [
       "([4, 4, 4, 12, 11], 40)"
      ]
     },
     "execution_count": 15,
     "metadata": {},
     "output_type": "execute_result"
    }
   ],
   "source": [
    "def is_three_of_a_kind(cards): \n",
    "    values = [c.numval for c in cards]\n",
    "    values.sort(reverse=True)\n",
    "    best_hand = []\n",
    "\n",
    "    for i in range(len(values)): \n",
    "        sumcount = values.count(values[i])\n",
    "        if sumcount == 3:\n",
    "            best_hand.append(values[i])\n",
    "    for i in range(3):\n",
    "        values.remove(best_hand[i])\n",
    "    best_hand.append(values[0])\n",
    "    best_hand.append(values[1])\n",
    "    values.remove(values[0])\n",
    "    values.remove(values[1])\n",
    "            \n",
    "    return best_hand, 40\n",
    "\n",
    "tr = is_three_of_a_kind(three_of_kind_hand)\n",
    "tr"
   ]
  },
  {
   "attachments": {},
   "cell_type": "markdown",
   "metadata": {},
   "source": [
    "## Two Pair (30 Points)\n",
    "---\n",
    "- Two Cards of the Same Ranking"
   ]
  },
  {
   "cell_type": "code",
   "execution_count": 16,
   "metadata": {},
   "outputs": [
    {
     "data": {
      "text/plain": [
       "([12, 12, 9, 9, 4], 30)"
      ]
     },
     "execution_count": 16,
     "metadata": {},
     "output_type": "execute_result"
    }
   ],
   "source": [
    "def is_two_pair(cards): \n",
    "    values = [c.numval for c in cards] \n",
    "    values.sort(reverse=True)\n",
    "    dupes = [n for n in values if values.count(n) == 2]\n",
    "\n",
    "    for i in range(4): \n",
    "        values.remove(dupes[i]) \n",
    "    dupes = dupes[:4]\n",
    "    dupes.append(values[0])\n",
    "    \n",
    "    return dupes, 30\n",
    "\n",
    "tw = is_two_pair(two_pair_hand)\n",
    "tw"
   ]
  },
  {
   "attachments": {},
   "cell_type": "markdown",
   "metadata": {},
   "source": [
    "## One Pair (20 Points)\n",
    "---\n",
    "- One Pair of Same Numerical Ranking \n",
    "- Odds more complicated "
   ]
  },
  {
   "cell_type": "code",
   "execution_count": 17,
   "metadata": {},
   "outputs": [
    {
     "data": {
      "text/plain": [
       "([4, 4, 12], 20)"
      ]
     },
     "execution_count": 17,
     "metadata": {},
     "output_type": "execute_result"
    }
   ],
   "source": [
    "def is_one_pair(cards): \n",
    "    numbers = [c.numval for c in cards]\n",
    "    numbers.sort(reverse=True)\n",
    "    dupes = [n for n in numbers if numbers.count(n) == 2]\n",
    "    mult = len(dupes)\n",
    "    \n",
    "    if mult == 2: \n",
    "        numbers.remove(dupes[0])\n",
    "        numbers.remove(dupes[1])\n",
    "        dupes.append(numbers[0])\n",
    "        return dupes, 20\n",
    "    \n",
    "    return \"One Pair Error\"\n",
    "\n",
    "o = is_one_pair(one_pair_hand)\n",
    "o"
   ]
  },
  {
   "cell_type": "code",
   "execution_count": null,
   "metadata": {},
   "outputs": [],
   "source": []
  }
 ],
 "metadata": {
  "kernelspec": {
   "display_name": "base",
   "language": "python",
   "name": "python3"
  },
  "language_info": {
   "codemirror_mode": {
    "name": "ipython",
    "version": 3
   },
   "file_extension": ".py",
   "mimetype": "text/x-python",
   "name": "python",
   "nbconvert_exporter": "python",
   "pygments_lexer": "ipython3",
   "version": "3.8.8"
  },
  "orig_nbformat": 4,
  "vscode": {
   "interpreter": {
    "hash": "08a0dfaf3fa74e1b9a1bb705dbe1b2708914f992320bdd77350db063c3b717dd"
   }
  }
 },
 "nbformat": 4,
 "nbformat_minor": 2
}
