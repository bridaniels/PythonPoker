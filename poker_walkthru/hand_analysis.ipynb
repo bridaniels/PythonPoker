{
 "cells": [
  {
   "attachments": {},
   "cell_type": "markdown",
   "metadata": {},
   "source": [
    "# Poker Hand Analysis\n",
    "---"
   ]
  },
  {
   "attachments": {},
   "cell_type": "markdown",
   "metadata": {},
   "source": [
    "- One Pair/Two Pair \n",
    "    - collections: Counter + defaultdict \n",
    "    - lists \n",
    "    - count "
   ]
  },
  {
   "cell_type": "code",
   "execution_count": 62,
   "metadata": {},
   "outputs": [],
   "source": [
    "from collections import Counter, defaultdict"
   ]
  },
  {
   "cell_type": "code",
   "execution_count": 1,
   "metadata": {},
   "outputs": [],
   "source": [
    "# Setup \n",
    "SUITES = ['Heart', 'Diamond', 'Spade', 'Club']\n",
    "NUMVAL = [2,3,4,5,6,7,8,9,10,11,12,13,14]\n",
    "class Card: \n",
    "    def __init__(self, numval, suit): \n",
    "        self.numval = numval\n",
    "        self.suit = suit"
   ]
  },
  {
   "cell_type": "code",
   "execution_count": 284,
   "metadata": {},
   "outputs": [
    {
     "name": "stdout",
     "output_type": "stream",
     "text": [
      "Hand Check: [(14, 'Heart'), (13, 'Heart'), (12, 'Heart'), (11, 'Heart'), (10, 'Heart'), (5, 'Heart'), (3, 'Spade')]\n"
     ]
    }
   ],
   "source": [
    "one_pair_number = [12,11,9,5,4,4,2]\n",
    "one_pair_suitez = ['Diamond', 'Club', 'Club', 'Heart', 'Spade', 'Diamond', 'Spade']\n",
    "\n",
    "two_pair_number = [12,12,11,9,4,4,2]\n",
    "two_pair_suitez = ['Diamond', 'Club', 'Club', 'Heart', 'Spade', 'Diamond', 'Spade']\n",
    "\n",
    "three_kind_number = [12,11,9,4,4,4,2]\n",
    "three_kind_suitez = ['Diamond', 'Club', 'Club', 'Heart', 'Spade', 'Diamond', 'Spade']\n",
    "\n",
    "straight_number = [14,10,5,4,2,3]\n",
    "straight_suitez = ['Diamond', 'Club', 'Club', 'Heart', 'Spade', 'Diamond', 'Spade']\n",
    "\n",
    "flush_number = [14,12,10,4,3,2,3]\n",
    "flush_suitez = ['Diamond', 'Club', 'Club', 'Club', 'Club', 'Club', 'Spade']\n",
    "\n",
    "full_house_number = [13,10,13,10,13,8,14]\n",
    "full_house_suitez = ['Diamond', 'Spade', 'Heart', 'Heart', 'Spade', 'Diamond', 'Club']\n",
    "\n",
    "four_kind_number = [12,11,4,4,4,4,2]\n",
    "four_kind_suitez = ['Diamond', 'Club', 'Club', 'Heart', 'Spade', 'Diamond', 'Spade']\n",
    "\n",
    "straight_flush_number = [14,6,5,4,3,2,3]\n",
    "straight_flush_suitez = ['Diamond', 'Club', 'Club', 'Club', 'Club', 'Club', 'Spade']\n",
    "\n",
    "royal_flush_number = [14,13,12,11,10,5,3]\n",
    "royal_flush_suitez = ['Heart', 'Heart', 'Heart', 'Heart', 'Heart', 'Heart', 'Spade']\n",
    "\n",
    "def make_hand(number,suitez):\n",
    "    hand = []\n",
    "    for i in range(len(number)): \n",
    "        c = Card(number[i],suitez[i])\n",
    "        hand.append(c)\n",
    "    return hand \n",
    "\n",
    "one_pair_hand = make_hand(one_pair_number,one_pair_suitez)\n",
    "two_pair_hand = make_hand(two_pair_number,two_pair_suitez)\n",
    "three_of_kind_hand = make_hand(three_kind_number,three_kind_suitez)\n",
    "straight_hand = make_hand(straight_number,straight_suitez)\n",
    "flush_hand = make_hand(flush_number, flush_suitez)\n",
    "full_house_hand = make_hand(full_house_number, full_house_suitez)\n",
    "four_of_a_kind_hand = make_hand(four_kind_number,four_kind_suitez)\n",
    "straight_flush_hand = make_hand(straight_flush_number, straight_flush_suitez)\n",
    "royal_flush_hand = make_hand(royal_flush_number, royal_flush_suitez)\n",
    "\n",
    "hand_check = royal_flush_hand\n",
    "print(\"Hand Check: {}\".format([(c.numval, c.suit) for c in royal_flush_hand]))"
   ]
  },
  {
   "attachments": {},
   "cell_type": "markdown",
   "metadata": {},
   "source": [
    "## Royal Flush \n",
    "---"
   ]
  },
  {
   "cell_type": "code",
   "execution_count": 282,
   "metadata": {},
   "outputs": [
    {
     "data": {
      "text/plain": [
       "(True, \"Royal Flush: 'Heart' [14, 13, 12, 11, 10]\")"
      ]
     },
     "execution_count": 282,
     "metadata": {},
     "output_type": "execute_result"
    }
   ],
   "source": [
    "def check_royal_flush(cards):\n",
    "    suits = [i.suit for i in cards]\n",
    "    n = len(suits)\n",
    "    values = []\n",
    "    for i in range(n): \n",
    "        sameCount = suits.count(suits[i])\n",
    "        if sameCount >= 5: \n",
    "            royal_suit = suits[i]\n",
    "\n",
    "            for i in range(len(cards)):\n",
    "                if cards[i].suit == royal_suit and cards[i].numval >= 10:\n",
    "                    values.append(cards[i].numval)\n",
    "            if len(values) == 5: \n",
    "                return True, \"Royal Flush: '{}' {}\".format(royal_suit, values)\n",
    "    return False, \"No Royal Flush\"\n",
    "\n",
    "royal = check_royal_flush(royal_flush_hand)\n",
    "royal\n"
   ]
  },
  {
   "attachments": {},
   "cell_type": "markdown",
   "metadata": {},
   "source": [
    "## Straight Flush \n",
    "---"
   ]
  },
  {
   "cell_type": "code",
   "execution_count": 272,
   "metadata": {},
   "outputs": [
    {
     "name": "stdout",
     "output_type": "stream",
     "text": [
      "Flush Suit + Values: 'Club' [6, 5, 4, 3, 2]\n"
     ]
    },
    {
     "data": {
      "text/plain": [
       "(True, 'High Card: 2')"
      ]
     },
     "execution_count": 272,
     "metadata": {},
     "output_type": "execute_result"
    }
   ],
   "source": [
    "def check_straight_flush(cards):\n",
    "    suits = [i.suit for i in cards]\n",
    "    values = []\n",
    "    for i in range(len(suits)): \n",
    "        sameCount = suits.count(suits[i])\n",
    "        if sameCount >= 5: \n",
    "            flush_suit = suits[i]\n",
    "            \n",
    "            for i in range(len(cards)): \n",
    "                if cards[i].suit == flush_suit: \n",
    "                    values.append(cards[i].numval)\n",
    "            print(\"Flush Suit + Values: '{}' {}\".format(flush_suit,values))\n",
    "\n",
    "            \n",
    "            if 14 in values:\n",
    "                values.append(1) \n",
    "            values.sort(reverse=True)\n",
    "\n",
    "            num_left = len(values)\n",
    "            itr_num = num_left - 4\n",
    "\n",
    "            if num_left > 4: \n",
    "                for i in range(itr_num):\n",
    "                    if values[i] - 1 == values[i+1]: \n",
    "                        if values[i+1] - 1 == values[i+2]:\n",
    "                            if values[i+2] - 1 == values[i+3]:\n",
    "                                if values[i+3] - 1 == values[i+4]:\n",
    "                                    if values[i+4] == 1: \n",
    "                                        return True, \"High Card Ace: {}\".format(values[i+4])\n",
    "                                    else: \n",
    "                                        return True, \"High Card: {}\".format(values[i+4]) \n",
    "    return False, \"Not Straight Flush\"\n",
    "\n",
    "flush_vals = check_straight_flush(straight_flush_hand)\n",
    "flush_vals"
   ]
  },
  {
   "cell_type": "markdown",
   "metadata": {},
   "source": [
    "## Four of a Kind \n",
    "---"
   ]
  },
  {
   "cell_type": "code",
   "execution_count": null,
   "metadata": {},
   "outputs": [],
   "source": [
    "# FOUR OF A KIND "
   ]
  },
  {
   "attachments": {},
   "cell_type": "markdown",
   "metadata": {},
   "source": [
    "## Full House\n",
    "---"
   ]
  },
  {
   "cell_type": "code",
   "execution_count": 234,
   "metadata": {},
   "outputs": [
    {
     "data": {
      "text/plain": [
       "'Full House: [13, 13, 13, 10, 10]'"
      ]
     },
     "execution_count": 234,
     "metadata": {},
     "output_type": "execute_result"
    }
   ],
   "source": [
    "def is_full_house(cards): \n",
    "    numbers = [c.numval for c in cards]\n",
    "    numbers.sort(reverse=True)\n",
    "    dupes = [n for n in numbers if numbers.count(n) > 1]\n",
    "    mult = len(dupes)\n",
    "    # Full House\n",
    "    if mult == 5 and len(set(dupes)) == 2: \n",
    "        return \"Full House: {}\".format(dupes)\n",
    "    \n",
    "brady = is_full_house(full_house_hand)\n",
    "brady"
   ]
  },
  {
   "attachments": {},
   "cell_type": "markdown",
   "metadata": {},
   "source": [
    "## Flush\n",
    "---"
   ]
  },
  {
   "cell_type": "code",
   "execution_count": 205,
   "metadata": {},
   "outputs": [
    {
     "data": {
      "text/plain": [
       "(True, 12)"
      ]
     },
     "execution_count": 205,
     "metadata": {},
     "output_type": "execute_result"
    }
   ],
   "source": [
    "def is_flush(cards): \n",
    "    card_suit = [0,0,0,0]\n",
    "    heart_cards, diamond_cards, spade_cards, club_cards = [], [], [], []\n",
    "\n",
    "    for c in cards: \n",
    "        if c.suit == \"Heart\": \n",
    "            card_suit[0] += 1\n",
    "            heart_cards.append(c.numval)\n",
    "        if c.suit == \"Diamond\":\n",
    "            card_suit[1] += 1\n",
    "            diamond_cards.append(c.numval)\n",
    "        if c.suit == \"Spade\":\n",
    "            card_suit[2] += 1\n",
    "            spade_cards.append(c.numval)\n",
    "        if c.suit == \"Club\":\n",
    "            card_suit[3] += 1\n",
    "            club_cards.append(c.numval)\n",
    "    if any(i >= 5 for i in card_suit): \n",
    "        if card_suit[0] >= 5:\n",
    "            return True, max(heart_cards)\n",
    "        if card_suit[1] >= 5:\n",
    "            return True, max(diamond_cards)\n",
    "        if card_suit[2] >= 5:\n",
    "            return True, max(spade_cards)\n",
    "        if card_suit[3] >= 5: \n",
    "            return True, max(club_cards)\n",
    "    else: \n",
    "        return False, \"Not a Flush\"\n",
    "\n",
    "flushed = is_flush(flush_hand)\n",
    "flushed"
   ]
  },
  {
   "cell_type": "code",
   "execution_count": 220,
   "metadata": {},
   "outputs": [
    {
     "data": {
      "text/plain": [
       "(True, 'Flush Suit: Club')"
      ]
     },
     "execution_count": 220,
     "metadata": {},
     "output_type": "execute_result"
    }
   ],
   "source": [
    "def check_flush(cards):\n",
    "    suits = [i.suit for i in cards]\n",
    "    n = len(suits)\n",
    "    for i in range(n): \n",
    "        sameCount = suits.count(suits[i])\n",
    "        if sameCount == 5: \n",
    "            return True, \"Flush Suit: {}\".format(suits[i])\n",
    "    return False, \"Not a Flush\"\n",
    "\n",
    "flusheroni = check_flush(flush_hand)\n",
    "flusheroni"
   ]
  },
  {
   "attachments": {},
   "cell_type": "markdown",
   "metadata": {},
   "source": [
    "## Straight \n",
    "---\n",
    "- Five Cards in Numerical Order \n",
    "- *not in the same suit*"
   ]
  },
  {
   "cell_type": "code",
   "execution_count": 198,
   "metadata": {},
   "outputs": [
    {
     "data": {
      "text/plain": [
       "(True, 'High Card Ace: 1')"
      ]
     },
     "execution_count": 198,
     "metadata": {},
     "output_type": "execute_result"
    }
   ],
   "source": [
    "def is_straight(cards): \n",
    "    values = [c.numval for c in cards]\n",
    "    if 14 in values: \n",
    "        values.append(1)\n",
    "    values = list(set(values))\n",
    "    values.sort(reverse=True)\n",
    "\n",
    "    numLeft = len(values)\n",
    "    numIter = numLeft - 4\n",
    "\n",
    "    if numLeft > 4: \n",
    "        for i in range(numIter): \n",
    "            if values[i] - 1 == values[i+1]: \n",
    "                if values[i+1] - 1 == values[i+2]:\n",
    "                    if values[i+2] -1 == values[i+3]: \n",
    "                        if values[i+3] - 1 == values[i+4]:\n",
    "                            if values[i+4] == 1: \n",
    "                                return True, \"High Card Ace: {}\".format(values[i+4])\n",
    "                            else: \n",
    "                                return True, \"High Card: {}\".format(values[i])\n",
    "    return False, 0 \n",
    "\n",
    "\n",
    "bob = is_straight(straight_hand)\n",
    "bob"
   ]
  },
  {
   "attachments": {},
   "cell_type": "markdown",
   "metadata": {},
   "source": [
    "# One Pair **OR** Two Pair **OR** Three of a Kind **OR** Full House **OR** Four of a Kind \n",
    "---"
   ]
  },
  {
   "attachments": {},
   "cell_type": "markdown",
   "metadata": {},
   "source": [
    "### Find Duplicates "
   ]
  },
  {
   "cell_type": "code",
   "execution_count": 236,
   "metadata": {},
   "outputs": [],
   "source": [
    "def find_duplicates(cards): \n",
    "    numbers = [c.numval for c in cards]\n",
    "    numbers.sort(reverse=True)\n",
    "    dupes = [n for n in numbers if numbers.count(n) > 1]\n",
    "    mult = len(dupes)\n",
    "    # One Pair\n",
    "    if mult == 2: \n",
    "        return \"One Pair: {}\".format(dupes)\n",
    "    # Two Pair + Four of a Kind \n",
    "    elif mult == 4:\n",
    "        if len(set(dupes)) == 2: \n",
    "            return \"Two Pairs: {}\".format(dupes)\n",
    "        elif len(set(dupes)) == 1: \n",
    "            return \"Four of a Kind: {}\".format(dupes)\n",
    "    # Three of a Kind \n",
    "    elif mult == 3: \n",
    "        return \"Three of a Kind: {}\".format(dupes)\n",
    "    # Full House\n",
    "    elif mult == 5 and len(set(dupes)) == 2: \n",
    "        return \"Full House: {}\".format(dupes)\n",
    "    # NOT ABOVE \n",
    "    else: \n",
    "        return \"NONE OF LISTED: {}\".format(dupes)\n",
    "  "
   ]
  },
  {
   "cell_type": "code",
   "execution_count": 239,
   "metadata": {},
   "outputs": [
    {
     "name": "stdout",
     "output_type": "stream",
     "text": [
      "One Pair: [4, 4]\n",
      "Three of a Kind: [4, 4, 4]\n",
      "Two Pairs: [12, 12, 4, 4]\n",
      "- NOT HERE -  NONE OF LISTED: []\n",
      "- NOT HERE -  One Pair: [3, 3]\n",
      "Full House: [13, 13, 13, 10, 10]\n",
      "Four of a Kind: [4, 4, 4, 4]\n"
     ]
    }
   ],
   "source": [
    "one = find_duplicates(one_pair_hand)\n",
    "three = find_duplicates(three_of_kind_hand)\n",
    "two = find_duplicates(two_pair_hand)\n",
    "straight = find_duplicates(straight_hand)\n",
    "f_lush = find_duplicates(flush_hand)\n",
    "full = find_duplicates(full_house_hand)\n",
    "four = find_duplicates(four_of_a_kind_hand)\n",
    "\n",
    "print(one)\n",
    "print(three)\n",
    "print(two)\n",
    "print(\"- NOT HERE - \",straight)\n",
    "print(\"- NOT HERE - \",f_lush)\n",
    "print(full)\n",
    "print(four)\n"
   ]
  },
  {
   "attachments": {},
   "cell_type": "markdown",
   "metadata": {},
   "source": [
    "## Three of a Kind\n",
    "---"
   ]
  },
  {
   "cell_type": "code",
   "execution_count": 222,
   "metadata": {},
   "outputs": [],
   "source": [
    "# use layout from two/one pair "
   ]
  },
  {
   "attachments": {},
   "cell_type": "markdown",
   "metadata": {},
   "source": [
    "## Two Pair\n",
    "---"
   ]
  },
  {
   "cell_type": "code",
   "execution_count": 4,
   "metadata": {},
   "outputs": [],
   "source": [
    "def is_two_pair(cards): \n",
    "    cardValues = [c.numval for c in cards]\n",
    "    cardValues.sort(reverse=True)\n",
    "    best_cards = []\n",
    "    \n",
    "    #find first instance of pair \n",
    "    for i in range(len(cardValues)): \n",
    "        sameCount = cardValues.count(cardValues[i])\n",
    "        if sameCount == 2: \n",
    "            best_cards.append(cardValues[i])\n",
    "            break\n",
    "    #remove first pair \n",
    "    if len(best_cards) == 1: \n",
    "        cardValues.remove(best_cards[0])\n",
    "        cardValues.remove(best_cards[0])\n",
    "        #find second instance of pair \n",
    "        for i in range(len(cardValues)):\n",
    "            sameCount = cardValues.count(cardValues[i])\n",
    "            if sameCount == 2: \n",
    "                best_cards.append(cardValues[i])\n",
    "                break \n",
    "    #remove second pair \n",
    "    #add next highest card \n",
    "    if len(best_cards) == 2: \n",
    "        cardValues.remove(best_cards[1])\n",
    "        cardValues.remove(best_cards[1])\n",
    "        best_cards.append(cardValues[0])\n",
    "\n",
    "        return True, best_cards\n",
    "    \n",
    "    return False, 0"
   ]
  },
  {
   "cell_type": "code",
   "execution_count": 5,
   "metadata": {},
   "outputs": [
    {
     "data": {
      "text/plain": [
       "(True, [12, 4, 11])"
      ]
     },
     "execution_count": 5,
     "metadata": {},
     "output_type": "execute_result"
    }
   ],
   "source": [
    "k = is_two_pair(two_pair_hand)\n",
    "k"
   ]
  },
  {
   "attachments": {},
   "cell_type": "markdown",
   "metadata": {},
   "source": [
    "### collections.defaultdict "
   ]
  },
  {
   "cell_type": "code",
   "execution_count": 76,
   "metadata": {},
   "outputs": [],
   "source": [
    "def is_two_pair_default(cards): \n",
    "    values = [i.numval for i in cards]\n",
    "    value_counts = defaultdict(lambda:0)\n",
    "    for v in values: \n",
    "        value_counts[v] += 1\n",
    "    if sorted(value_counts.values(),reverse=True)[:3] == [2,2,1]:\n",
    "        return True, \"Two Pair Possible\"\n",
    "    else:\n",
    "        return False\n"
   ]
  },
  {
   "cell_type": "code",
   "execution_count": 75,
   "metadata": {},
   "outputs": [
    {
     "data": {
      "text/plain": [
       "(True, 'Two Pair Possible')"
      ]
     },
     "execution_count": 75,
     "metadata": {},
     "output_type": "execute_result"
    }
   ],
   "source": [
    "m = is_two_pair_default(two_pair_hand)\n",
    "m"
   ]
  },
  {
   "attachments": {},
   "cell_type": "markdown",
   "metadata": {},
   "source": [
    "### Find Duplicates "
   ]
  },
  {
   "cell_type": "code",
   "execution_count": 6,
   "metadata": {},
   "outputs": [],
   "source": [
    "def find_duplicates(cards): \n",
    "    numbers = [c.numval for c in cards]\n",
    "    dupes = [n for n in numbers if numbers.count(n) > 1]\n",
    "    return dupes "
   ]
  },
  {
   "cell_type": "code",
   "execution_count": 7,
   "metadata": {},
   "outputs": [
    {
     "data": {
      "text/plain": [
       "[12, 12, 4, 4]"
      ]
     },
     "execution_count": 7,
     "metadata": {},
     "output_type": "execute_result"
    }
   ],
   "source": [
    "d = find_duplicates(two_pair_hand)\n",
    "d"
   ]
  },
  {
   "attachments": {},
   "cell_type": "markdown",
   "metadata": {},
   "source": [
    "### collections.Counter"
   ]
  },
  {
   "cell_type": "code",
   "execution_count": 9,
   "metadata": {},
   "outputs": [],
   "source": [
    "def count_dupes(cards): \n",
    "    numbers = [c.numval for c in cards]\n",
    "    counts = dict(Counter(numbers))\n",
    "    dupes = {key: value for key, value in counts.items() if value>1}\n",
    "\n",
    "    return dupes"
   ]
  },
  {
   "cell_type": "code",
   "execution_count": 10,
   "metadata": {},
   "outputs": [
    {
     "data": {
      "text/plain": [
       "{12: 2, 4: 2}"
      ]
     },
     "execution_count": 10,
     "metadata": {},
     "output_type": "execute_result"
    }
   ],
   "source": [
    "c = count_dupes(two_pair_hand)\n",
    "c"
   ]
  },
  {
   "attachments": {},
   "cell_type": "markdown",
   "metadata": {},
   "source": [
    "## One Pair\n",
    "---"
   ]
  },
  {
   "cell_type": "code",
   "execution_count": 96,
   "metadata": {},
   "outputs": [],
   "source": [
    "def make_one_pair_hand(): \n",
    "    number = [12,11,9,5,4,4,2]\n",
    "    suitez = ['Diamond', 'Club', 'Club', 'Heart', 'Spade', 'Diamond', 'Spade']\n",
    "    hand = []\n",
    "    for i in range(len(number)): \n",
    "        c = Card(number[i],suitez[i])\n",
    "        hand.append(c)\n",
    "    return hand "
   ]
  },
  {
   "cell_type": "code",
   "execution_count": 97,
   "metadata": {},
   "outputs": [
    {
     "name": "stdout",
     "output_type": "stream",
     "text": [
      "One Pair Hand: [(12, 'Diamond'), (11, 'Club'), (9, 'Club'), (5, 'Heart'), (4, 'Spade'), (4, 'Diamond'), (2, 'Spade')]\n"
     ]
    }
   ],
   "source": [
    "one_pair_hand = make_one_pair_hand()\n",
    "print(\"One Pair Hand: {}\".format([(c.numval, c.suit) for c in one_pair_hand]))"
   ]
  },
  {
   "attachments": {},
   "cell_type": "markdown",
   "metadata": {},
   "source": [
    "### collections.defaultdict "
   ]
  },
  {
   "cell_type": "code",
   "execution_count": 27,
   "metadata": {},
   "outputs": [],
   "source": [
    "# only checks if there is a pair, not if there are multiple pairs \n",
    "def is_one_pair(cards):\n",
    "    values = [i.numval for i in cards]\n",
    "    valuecounts = defaultdict(lambda:0)\n",
    "    for v in values: \n",
    "        valuecounts[v] += 1\n",
    "    if 2 in valuecounts.values(): \n",
    "        return True\n",
    "    return False\n"
   ]
  },
  {
   "cell_type": "code",
   "execution_count": 28,
   "metadata": {},
   "outputs": [
    {
     "data": {
      "text/plain": [
       "True"
      ]
     },
     "execution_count": 28,
     "metadata": {},
     "output_type": "execute_result"
    }
   ],
   "source": [
    "k = is_one_pair(one_pair_hand)\n",
    "k"
   ]
  },
  {
   "attachments": {},
   "cell_type": "markdown",
   "metadata": {},
   "source": [
    "### .count"
   ]
  },
  {
   "cell_type": "code",
   "execution_count": 99,
   "metadata": {},
   "outputs": [
    {
     "data": {
      "text/plain": [
       "(True, [4, 12, 11, 9])"
      ]
     },
     "execution_count": 99,
     "metadata": {},
     "output_type": "execute_result"
    }
   ],
   "source": [
    "#don't really like this - misses second pair \n",
    "def is_pair_poss(cards): \n",
    "    values = [i.numval for i in cards]\n",
    "    values.sort(reverse=True)\n",
    "\n",
    "    found = False \n",
    "    num = 1 \n",
    "    for i in range(len(values)): \n",
    "        sameCount = values.count(values[i])\n",
    "        if sameCount == 2: \n",
    "            found = True\n",
    "            num = values[i]\n",
    "            break\n",
    "    if found: \n",
    "        values.remove(num)\n",
    "        values.remove(num)\n",
    "        return True, [num, values[0], values[1], values[2]]\n",
    "\n",
    "    return False, []\n",
    "\n",
    "p = is_pair_poss(one_pair_hand)\n",
    "p"
   ]
  },
  {
   "cell_type": "code",
   "execution_count": 98,
   "metadata": {},
   "outputs": [
    {
     "data": {
      "text/plain": [
       "True"
      ]
     },
     "execution_count": 98,
     "metadata": {},
     "output_type": "execute_result"
    }
   ],
   "source": [
    "def is_pair_count(cards): \n",
    "    values = [i.numval for i in cards]\n",
    "    values.sort(reverse=True)\n",
    "\n",
    "    mycount = []\n",
    "    num = 1 \n",
    "    for i in range(len(values)): \n",
    "        sameCount = values.count(values[i])\n",
    "        mycount.append(sameCount)\n",
    "    if mycount.count(2) == 2 and mycount.count(1) >= 3:\n",
    "        return True\n",
    "    return False \n",
    "\n",
    "m = is_pair_count(one_pair_hand)\n",
    "m"
   ]
  },
  {
   "cell_type": "code",
   "execution_count": null,
   "metadata": {},
   "outputs": [],
   "source": []
  }
 ],
 "metadata": {
  "kernelspec": {
   "display_name": "base",
   "language": "python",
   "name": "python3"
  },
  "language_info": {
   "codemirror_mode": {
    "name": "ipython",
    "version": 3
   },
   "file_extension": ".py",
   "mimetype": "text/x-python",
   "name": "python",
   "nbconvert_exporter": "python",
   "pygments_lexer": "ipython3",
   "version": "3.8.8"
  },
  "orig_nbformat": 4,
  "vscode": {
   "interpreter": {
    "hash": "08a0dfaf3fa74e1b9a1bb705dbe1b2708914f992320bdd77350db063c3b717dd"
   }
  }
 },
 "nbformat": 4,
 "nbformat_minor": 2
}
