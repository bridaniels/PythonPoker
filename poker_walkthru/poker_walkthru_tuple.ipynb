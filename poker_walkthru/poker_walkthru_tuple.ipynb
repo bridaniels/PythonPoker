{
 "cells": [
  {
   "attachments": {},
   "cell_type": "markdown",
   "metadata": {},
   "source": [
    "# **Texas Hold'em Poker Walkthrough: TUPLE**\n",
    "---"
   ]
  },
  {
   "attachments": {},
   "cell_type": "markdown",
   "metadata": {},
   "source": [
    "### Import Libraries "
   ]
  },
  {
   "cell_type": "code",
   "execution_count": 1,
   "metadata": {},
   "outputs": [],
   "source": [
    "import itertools\n",
    "import random "
   ]
  },
  {
   "attachments": {},
   "cell_type": "markdown",
   "metadata": {},
   "source": [
    "### Basic Setup "
   ]
  },
  {
   "cell_type": "code",
   "execution_count": 2,
   "metadata": {},
   "outputs": [],
   "source": [
    "# Setup \n",
    "SUITES = ['Heart', 'Diamond', 'Spade', 'Club']\n",
    "NUMVAL = [2,3,4,5,6,7,8,9,10,11,12,13,14]\n",
    "FACECARDS = {\n",
    "    \"J\": 11, \n",
    "    \"Q\": 12, \n",
    "    \"K\": 13, \n",
    "    \"A\": 14, \n",
    "    11: \"J\", \n",
    "    12: \"Q\", \n",
    "    13: \"K\", \n",
    "    14: \"A\"\n",
    "}\n",
    "num_players = 5"
   ]
  },
  {
   "attachments": {},
   "cell_type": "markdown",
   "metadata": {},
   "source": [
    "## Initialize Tuple Deck + Shuffle \n",
    "---"
   ]
  },
  {
   "cell_type": "code",
   "execution_count": 3,
   "metadata": {},
   "outputs": [
    {
     "name": "stdout",
     "output_type": "stream",
     "text": [
      "Starting Deck:  [(2, 'Heart'), (2, 'Diamond'), (2, 'Spade'), (2, 'Club'), (3, 'Heart'), (3, 'Diamond'), (3, 'Spade'), (3, 'Club'), (4, 'Heart'), (4, 'Diamond'), (4, 'Spade'), (4, 'Club'), (5, 'Heart'), (5, 'Diamond'), (5, 'Spade'), (5, 'Club'), (6, 'Heart'), (6, 'Diamond'), (6, 'Spade'), (6, 'Club'), (7, 'Heart'), (7, 'Diamond'), (7, 'Spade'), (7, 'Club'), (8, 'Heart'), (8, 'Diamond'), (8, 'Spade'), (8, 'Club'), (9, 'Heart'), (9, 'Diamond'), (9, 'Spade'), (9, 'Club'), (10, 'Heart'), (10, 'Diamond'), (10, 'Spade'), (10, 'Club'), (11, 'Heart'), (11, 'Diamond'), (11, 'Spade'), (11, 'Club'), (12, 'Heart'), (12, 'Diamond'), (12, 'Spade'), (12, 'Club'), (13, 'Heart'), (13, 'Diamond'), (13, 'Spade'), (13, 'Club'), (14, 'Heart'), (14, 'Diamond'), (14, 'Spade'), (14, 'Club')]\n"
     ]
    }
   ],
   "source": [
    "# Tuple - Create Deck\n",
    "tuple_deck = list(itertools.product(NUMVAL,SUITES))\n",
    "print(\"Starting Deck: \", tuple_deck)\n",
    "\n",
    "# Tuple - Shuffle Deck \n",
    "random.shuffle(tuple_deck)"
   ]
  },
  {
   "attachments": {},
   "cell_type": "markdown",
   "metadata": {},
   "source": [
    "## Deal First Round of Cards\n",
    "---"
   ]
  },
  {
   "attachments": {},
   "cell_type": "markdown",
   "metadata": {},
   "source": [
    "### Setup to Deal "
   ]
  },
  {
   "cell_type": "code",
   "execution_count": 4,
   "metadata": {},
   "outputs": [
    {
     "name": "stdout",
     "output_type": "stream",
     "text": [
      "Players: 5 -> [[], [], [], [], []]\n"
     ]
    }
   ],
   "source": [
    "# Tuple - Dealing Setup \n",
    "player_cards = []\n",
    "for i in range(num_players): \n",
    "    player_cards.append([])\n",
    "\n",
    "# Tuple - Deal One Card \n",
    "def deal_one(player_cards, tuple_deck): \n",
    "    for i in range(num_players): \n",
    "        player_cards[i].append((tuple_deck[i][0], tuple_deck[i][1]))\n",
    "        tuple_deck.remove((tuple_deck[i][0],tuple_deck[i][1]))\n",
    "    return player_cards, tuple_deck\n",
    "\n",
    "print(\"Players: {} -> {}\".format(num_players, player_cards))"
   ]
  },
  {
   "attachments": {},
   "cell_type": "markdown",
   "metadata": {},
   "source": [
    "### Deal First Round: \"Hole Cards\"\n",
    "- each player gets two cards \n",
    "- specific player's cards only "
   ]
  },
  {
   "cell_type": "code",
   "execution_count": 5,
   "metadata": {},
   "outputs": [
    {
     "name": "stdout",
     "output_type": "stream",
     "text": [
      "Cards in Deck:  52\n",
      "\n",
      "First Deal:  [[(4, 'Spade')], [(9, 'Spade')], [(8, 'Diamond')], [(6, 'Heart')], [(2, 'Diamond')]]\n",
      "Cards in Deck:  47\n",
      "\n",
      "Second Deal: [[(4, 'Spade'), (9, 'Club')], [(9, 'Spade'), (5, 'Diamond')], [(8, 'Diamond'), (3, 'Diamond')], [(6, 'Heart'), (12, 'Club')], [(2, 'Diamond'), (11, 'Club')]]\n",
      "Cards in Deck: 42\n"
     ]
    }
   ],
   "source": [
    "print(\"Cards in Deck: \", len(tuple_deck))\n",
    "# ROUND 1\n",
    "player_cards, tuple_deck = deal_one(player_cards, tuple_deck)\n",
    "print(\"\\nFirst Deal: \", player_cards)\n",
    "print(\"Cards in Deck: \", len(tuple_deck))\n",
    "# ROUND 2 \n",
    "player_cards, tuple_deck = deal_one(player_cards, tuple_deck)\n",
    "print(\"\\nSecond Deal: {}\\nCards in Deck: {}\".format(player_cards, len(tuple_deck)))"
   ]
  },
  {
   "attachments": {},
   "cell_type": "markdown",
   "metadata": {},
   "source": [
    "---\n",
    "## *Players Place First Bets*\n",
    "- Pre-Flop\n",
    "---"
   ]
  },
  {
   "attachments": {},
   "cell_type": "markdown",
   "metadata": {},
   "source": [
    "---\n",
    "## *Opening Bet Folding*\n",
    "---"
   ]
  },
  {
   "attachments": {},
   "cell_type": "markdown",
   "metadata": {},
   "source": [
    "## The Flop\n",
    "- Burn First Card \n",
    "- Deal The Flop: First Three Community Cards \n",
    "---"
   ]
  },
  {
   "cell_type": "code",
   "execution_count": 6,
   "metadata": {},
   "outputs": [
    {
     "name": "stdout",
     "output_type": "stream",
     "text": [
      "Cards in Deck:  42\n",
      "Burnt Card: [(3, 'Heart')]\n",
      "Cards in Deck: 41\n"
     ]
    }
   ],
   "source": [
    "# Tuple - Burn First Card \n",
    "print(\"Cards in Deck: \", len(tuple_deck))\n",
    "\n",
    "burn_pile = []\n",
    "burn_pile.append(tuple_deck[0])\n",
    "tuple_deck.pop(0)\n",
    "print(\"Burnt Card: {}\\nCards in Deck: {}\".format(burn_pile, len(tuple_deck)))"
   ]
  },
  {
   "cell_type": "code",
   "execution_count": 7,
   "metadata": {},
   "outputs": [
    {
     "name": "stdout",
     "output_type": "stream",
     "text": [
      "Cards in Deck:  41\n",
      "Community Cards: [(10, 'Diamond'), (6, 'Diamond'), (11, 'Diamond')]\n",
      "Cards in Deck: 38\n"
     ]
    }
   ],
   "source": [
    "# Tuple - First Three Community Cards \n",
    "print(\"Cards in Deck: \", len(tuple_deck))\n",
    "\n",
    "community_cards = []\n",
    "for i in range(3): \n",
    "    community_cards.append(tuple_deck[0])\n",
    "    tuple_deck.pop(0)\n",
    "\n",
    "print(\"Community Cards: {}\\nCards in Deck: {}\".format(community_cards, len(tuple_deck)))"
   ]
  },
  {
   "attachments": {},
   "cell_type": "markdown",
   "metadata": {},
   "source": [
    "---\n",
    "## *Players Take Second Bets*\n",
    "- Flop Beting Round\n",
    "- Betting No Longer \"Blind\"\n",
    "---"
   ]
  },
  {
   "attachments": {},
   "cell_type": "markdown",
   "metadata": {},
   "source": [
    "## The Turn or Fourth Street\n",
    "- Burn First Card \n",
    "- Single Community Card\n",
    "---"
   ]
  },
  {
   "cell_type": "code",
   "execution_count": 8,
   "metadata": {},
   "outputs": [
    {
     "name": "stdout",
     "output_type": "stream",
     "text": [
      "Cards in Deck:  38\n",
      "Burnt Card: [(10, 'Heart')]\n",
      "Cards in Deck: 37\n"
     ]
    }
   ],
   "source": [
    "# Tuple - Burn First Card \n",
    "print(\"Cards in Deck: \", len(tuple_deck))\n",
    "\n",
    "burn_pile = []\n",
    "burn_pile.append(tuple_deck[0])\n",
    "tuple_deck.pop(0)\n",
    "print(\"Burnt Card: {}\\nCards in Deck: {}\".format(burn_pile, len(tuple_deck)))"
   ]
  },
  {
   "cell_type": "code",
   "execution_count": 9,
   "metadata": {},
   "outputs": [
    {
     "name": "stdout",
     "output_type": "stream",
     "text": [
      "Cards in Deck:  37\n",
      "Community Cards: [(10, 'Diamond'), (6, 'Diamond'), (11, 'Diamond'), (6, 'Club')]\n",
      "Cards in Deck: 36\n"
     ]
    }
   ],
   "source": [
    "# Tuple - Turn or Fourth Street \n",
    "print(\"Cards in Deck: \", len(tuple_deck))\n",
    "\n",
    "community_cards.append(tuple_deck[0])\n",
    "tuple_deck.pop(0)\n",
    "\n",
    "print(\"Community Cards: {}\\nCards in Deck: {}\".format(community_cards, len(tuple_deck)))"
   ]
  },
  {
   "attachments": {},
   "cell_type": "markdown",
   "metadata": {},
   "source": [
    "---\n",
    "## *Players Take Third Bets*\n",
    "---"
   ]
  },
  {
   "attachments": {},
   "cell_type": "markdown",
   "metadata": {},
   "source": [
    "## The River or Fifth Street\n",
    "- Burn First Card\n",
    "- Single Community Card \n",
    "---"
   ]
  },
  {
   "cell_type": "code",
   "execution_count": 10,
   "metadata": {},
   "outputs": [
    {
     "name": "stdout",
     "output_type": "stream",
     "text": [
      "Cards in Deck:  36\n",
      "Burnt Card: [(13, 'Club')]\n",
      "Cards in Deck: 35\n"
     ]
    }
   ],
   "source": [
    "# Tuple - Burn First Card \n",
    "print(\"Cards in Deck: \", len(tuple_deck))\n",
    "\n",
    "burn_pile = []\n",
    "burn_pile.append(tuple_deck[0])\n",
    "tuple_deck.pop(0)\n",
    "print(\"Burnt Card: {}\\nCards in Deck: {}\".format(burn_pile, len(tuple_deck)))"
   ]
  },
  {
   "cell_type": "code",
   "execution_count": 11,
   "metadata": {},
   "outputs": [
    {
     "name": "stdout",
     "output_type": "stream",
     "text": [
      "Cards in Deck:  35\n",
      "Community Cards: [(10, 'Diamond'), (6, 'Diamond'), (11, 'Diamond'), (6, 'Club'), (2, 'Club')]\n",
      "Cards in Deck: 34\n"
     ]
    }
   ],
   "source": [
    "# Tuple - River or Fifth Street \n",
    "print(\"Cards in Deck: \", len(tuple_deck))\n",
    "\n",
    "community_cards.append(tuple_deck[0])\n",
    "tuple_deck.pop(0)\n",
    "\n",
    "print(\"Community Cards: {}\\nCards in Deck: {}\".format(community_cards, len(tuple_deck)))"
   ]
  },
  {
   "attachments": {},
   "cell_type": "markdown",
   "metadata": {},
   "source": [
    "---\n",
    "## *Final Betting*\n",
    "- last player to **bet** or **raise** during final round = first to put down their cards \n",
    "    - then clockwise \n",
    "---"
   ]
  },
  {
   "attachments": {},
   "cell_type": "markdown",
   "metadata": {},
   "source": [
    "\n",
    "## The Showdown \n",
    "- if 2+ Players Remain After Final Betting Round \n",
    "- each player makes the best 5-Card hand from 2 *Hole Cards* and 5 *Community Cards*\n",
    "- **Mucking**\n",
    "    - surrending hand without turning cards over \n",
    "    - not eligible to win the pot \n",
    "--- "
   ]
  },
  {
   "cell_type": "code",
   "execution_count": null,
   "metadata": {},
   "outputs": [],
   "source": []
  }
 ],
 "metadata": {
  "kernelspec": {
   "display_name": "Python 3",
   "language": "python",
   "name": "python3"
  },
  "language_info": {
   "codemirror_mode": {
    "name": "ipython",
    "version": 3
   },
   "file_extension": ".py",
   "mimetype": "text/x-python",
   "name": "python",
   "nbconvert_exporter": "python",
   "pygments_lexer": "ipython3",
   "version": "3.9.10"
  },
  "orig_nbformat": 4,
  "vscode": {
   "interpreter": {
    "hash": "aee8b7b246df8f9039afb4144a1f6fd8d2ca17a180786b69acc140d282b71a49"
   }
  }
 },
 "nbformat": 4,
 "nbformat_minor": 2
}
