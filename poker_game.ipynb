{
 "cells": [
  {
   "attachments": {},
   "cell_type": "markdown",
   "metadata": {},
   "source": [
    "# Poker Game \n",
    "---"
   ]
  },
  {
   "attachments": {},
   "cell_type": "markdown",
   "metadata": {},
   "source": [
    "### Import Libraries + [`play_poker.py`](play_poker.py) File"
   ]
  },
  {
   "cell_type": "code",
   "execution_count": 6,
   "metadata": {},
   "outputs": [],
   "source": [
    "import play_poker as pp\n",
    "import copy "
   ]
  },
  {
   "cell_type": "code",
   "execution_count": 7,
   "metadata": {},
   "outputs": [],
   "source": [
    "num_players = 5"
   ]
  },
  {
   "attachments": {},
   "cell_type": "markdown",
   "metadata": {},
   "source": [
    "## TEXAS HOLD'EM\n",
    "---"
   ]
  },
  {
   "cell_type": "code",
   "execution_count": 8,
   "metadata": {},
   "outputs": [
    {
     "name": "stdout",
     "output_type": "stream",
     "text": [
      "FIRST ROUND: \n",
      " =====================\n",
      "Player Hole Cards: [(2, 'Spade'), (13, 'Club')] \n",
      "Cards Played: 10\n",
      " Player Card Count: 0 \n",
      " Opponents Card Count: -2\n",
      "\n",
      "THE FLOP: \n",
      " =====================\n",
      "Burnt Cards: [(12, 'Diamond')] \n",
      "Community Cards: [(4, 'Heart'), (9, 'Heart'), (8, 'Club')]\n",
      "\n",
      "TURN OR FOURTH STREET: \n",
      " =====================\n",
      "Burnt Cards: [(12, 'Diamond'), (3, 'Spade')] \n",
      "Community Cards: [(4, 'Heart'), (9, 'Heart'), (8, 'Club'), (10, 'Spade')] \n",
      "Cards in Deck: 36\n",
      "\n",
      "THE RIVER OR FIFTH STREET: \n",
      " =====================\n",
      "Burnt Cards: [(12, 'Diamond'), (3, 'Spade'), (7, 'Diamond')] \n",
      "Community Cards: [(4, 'Heart'), (9, 'Heart'), (8, 'Club'), (10, 'Spade'), (10, 'Diamond')] \n",
      "Cards in Deck: 34\n"
     ]
    }
   ],
   "source": [
    "# Initialize Deck \n",
    "starting_deck = pp.initialize_deck_one_liner()\n",
    "\n",
    "# Deal First Round of Cards \n",
    "player_hand, opponent_hands = pp.hole_cards(starting_deck, num_players)\n",
    "game_counter = pp.player_card_count(0,player_hand)\n",
    "opp_counter = pp.opponent_card_count(opponent_hands)\n",
    "print(\"FIRST ROUND: \\n =====================\")\n",
    "print(\"Player Hole Cards: {} \\nCards Played: {}\\n Player Card Count: {} \\n Opponents Card Count: {}\".format([(c.numval, c.suit) for c in player_hand], 52-len(starting_deck), game_counter, opp_counter))\n",
    "\n",
    "# The Flop\n",
    "burn, community_cards = pp.the_flop(starting_deck)\n",
    "print(\"\\nTHE FLOP: \\n =====================\")\n",
    "print(\"Burnt Cards: {} \\nCommunity Cards: {}\".format([(n.numval, n.suit) for n in burn], [(n.numval,n.suit) for n in community_cards]))\n",
    "\n",
    "# The Turn or Fourth Street\n",
    "turn_burn, turn_community = pp.turn_river(starting_deck)\n",
    "burn.append(turn_burn)\n",
    "community_cards.append(turn_community)\n",
    "print(\"\\nTURN OR FOURTH STREET: \\n =====================\")\n",
    "print(\"Burnt Cards: {} \\nCommunity Cards: {} \\nCards in Deck: {}\".format([(n.numval, n.suit) for n in burn],[(n.numval, n.suit) for n in community_cards], len(starting_deck)))\n",
    "\n",
    "# The River or Fifth Street\n",
    "river_burn, river_community = pp.turn_river(starting_deck)\n",
    "burn.append(river_burn)\n",
    "community_cards.append(river_community)\n",
    "print(\"\\nTHE RIVER OR FIFTH STREET: \\n =====================\")\n",
    "print(\"Burnt Cards: {} \\nCommunity Cards: {} \\nCards in Deck: {}\".format([(n.numval, n.suit) for n in burn],[(n.numval, n.suit) for n in community_cards], len(starting_deck)))\n"
   ]
  },
  {
   "attachments": {},
   "cell_type": "markdown",
   "metadata": {},
   "source": [
    "### THE SHOWDOWN "
   ]
  },
  {
   "cell_type": "code",
   "execution_count": 9,
   "metadata": {},
   "outputs": [
    {
     "name": "stdout",
     "output_type": "stream",
     "text": [
      "Player 1: [(4, 'Heart'), (9, 'Heart'), (8, 'Club'), (10, 'Spade'), (10, 'Diamond'), (2, 'Spade'), (13, 'Club')] \n",
      " Duplicates: One_Pair \n",
      " StraightFlushRoyal: False \n",
      " Best Hand: ([10, 10, 13], 20) \n",
      "\n",
      "Opponent 1 Hand: [(11, 'Diamond'), (11, 'Heart'), (4, 'Heart'), (9, 'Heart'), (8, 'Club'), (10, 'Spade'), (10, 'Diamond')]\n",
      " Duplicates: Two_Pair \n",
      " StraightFlushRoyal: False \n",
      " Best Hand: ([11, 11, 10, 10, 9], 30)\n",
      "Opponent 2 Hand: [(9, 'Diamond'), (5, 'Diamond'), (4, 'Heart'), (9, 'Heart'), (8, 'Club'), (10, 'Spade'), (10, 'Diamond')]\n",
      " Duplicates: Two_Pair \n",
      " StraightFlushRoyal: False \n",
      " Best Hand: ([10, 10, 9, 9, 8], 30)\n",
      "Opponent 3 Hand: [(2, 'Heart'), (14, 'Diamond'), (4, 'Heart'), (9, 'Heart'), (8, 'Club'), (10, 'Spade'), (10, 'Diamond')]\n",
      " Duplicates: One_Pair \n",
      " StraightFlushRoyal: False \n",
      " Best Hand: ([10, 10, 14], 20)\n",
      "Opponent 4 Hand: [(8, 'Heart'), (14, 'Heart'), (4, 'Heart'), (9, 'Heart'), (8, 'Club'), (10, 'Spade'), (10, 'Diamond')]\n",
      " Duplicates: Two_Pair \n",
      " StraightFlushRoyal: False \n",
      " Best Hand: ([10, 10, 8, 8, 14], 30)\n"
     ]
    }
   ],
   "source": [
    "# Player's Hands \n",
    "player1 = pp.get_players_hand(community_cards,player_hand)\n",
    "player1_dupes = pp.find_duplicates(player1)\n",
    "player1_sfr = pp.is_straight_flush_royal(player1)\n",
    "player1_check = pp.check_hand(player1, player1_sfr, player1_dupes)\n",
    "\n",
    "print(\"Player 1: {} \\n Duplicates: {} \\n StraightFlushRoyal: {} \\n Best Hand: {} \\n\".format([(n.numval,n.suit) for n in player1], player1_dupes, player1_sfr, player1_check))\n",
    "\n",
    "# Opponent's Hands \n",
    "hand, sfr, fd, check = pp.check_opponents(community_cards,opponent_hands)\n",
    "\n",
    "for i in range(num_players-1):\n",
    "    print(\"Opponent {} Hand: {}\".format(i+1, [(n.numval,n.suit) for n in hand[i]]))\n",
    "    print(\" Duplicates: {} \\n StraightFlushRoyal: {} \\n Best Hand: {}\".format(fd[i],sfr[i],check[i]))"
   ]
  },
  {
   "attachments": {},
   "cell_type": "markdown",
   "metadata": {},
   "source": [
    "### Winner"
   ]
  },
  {
   "cell_type": "code",
   "execution_count": 10,
   "metadata": {},
   "outputs": [
    {
     "data": {
      "text/plain": [
       "('Two_Pair', 30, 'mult')"
      ]
     },
     "execution_count": 10,
     "metadata": {},
     "output_type": "execute_result"
    }
   ],
   "source": [
    "winning_hand = pp.winner(player1_check,check)\n",
    "\n",
    "winning_hand"
   ]
  },
  {
   "cell_type": "code",
   "execution_count": null,
   "metadata": {},
   "outputs": [],
   "source": []
  }
 ],
 "metadata": {
  "kernelspec": {
   "display_name": "base",
   "language": "python",
   "name": "python3"
  },
  "language_info": {
   "codemirror_mode": {
    "name": "ipython",
    "version": 3
   },
   "file_extension": ".py",
   "mimetype": "text/x-python",
   "name": "python",
   "nbconvert_exporter": "python",
   "pygments_lexer": "ipython3",
   "version": "3.8.8"
  },
  "orig_nbformat": 4,
  "vscode": {
   "interpreter": {
    "hash": "08a0dfaf3fa74e1b9a1bb705dbe1b2708914f992320bdd77350db063c3b717dd"
   }
  }
 },
 "nbformat": 4,
 "nbformat_minor": 2
}
